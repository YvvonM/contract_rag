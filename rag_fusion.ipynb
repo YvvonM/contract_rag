{
  "cells": [
    {
      "cell_type": "markdown",
      "metadata": {
        "id": "OAzL2pK1IWaN"
      },
      "source": [
        "### CHUNKING"
      ]
    },
    {
      "cell_type": "markdown",
      "metadata": {
        "id": "qyALW6lKht7P"
      },
      "source": [
        "**Importing libraries**"
      ]
    },
    {
      "cell_type": "code",
      "execution_count": 1,
      "metadata": {
        "colab": {
          "base_uri": "https://localhost:8080/"
        },
        "id": "kJrFRe6Sh1iw",
        "outputId": "c083180d-312f-4abf-a167-7e52c54e9e97"
      },
      "outputs": [
        {
          "name": "stdout",
          "output_type": "stream",
          "text": [
            "Collecting langchain\n",
            "  Downloading langchain-0.1.9-py3-none-any.whl (816 kB)\n",
            "\u001b[2K     \u001b[90m━━━━━━━━━━━━━━━━━━━━━━━━━━━━━━━━━━━━━━━━\u001b[0m \u001b[32m817.0/817.0 kB\u001b[0m \u001b[31m5.2 MB/s\u001b[0m eta \u001b[36m0:00:00\u001b[0m\n",
            "\u001b[?25hCollecting langchain_experimental\n",
            "  Downloading langchain_experimental-0.0.52-py3-none-any.whl (171 kB)\n",
            "\u001b[2K     \u001b[90m━━━━━━━━━━━━━━━━━━━━━━━━━━━━━━━━━━━━━━━━\u001b[0m \u001b[32m171.6/171.6 kB\u001b[0m \u001b[31m16.7 MB/s\u001b[0m eta \u001b[36m0:00:00\u001b[0m\n",
            "\u001b[?25hRequirement already satisfied: PyYAML>=5.3 in /usr/local/lib/python3.10/dist-packages (from langchain) (6.0.1)\n",
            "Requirement already satisfied: SQLAlchemy<3,>=1.4 in /usr/local/lib/python3.10/dist-packages (from langchain) (2.0.27)\n",
            "Requirement already satisfied: aiohttp<4.0.0,>=3.8.3 in /usr/local/lib/python3.10/dist-packages (from langchain) (3.9.3)\n",
            "Requirement already satisfied: async-timeout<5.0.0,>=4.0.0 in /usr/local/lib/python3.10/dist-packages (from langchain) (4.0.3)\n",
            "Collecting dataclasses-json<0.7,>=0.5.7 (from langchain)\n",
            "  Downloading dataclasses_json-0.6.4-py3-none-any.whl (28 kB)\n",
            "Collecting jsonpatch<2.0,>=1.33 (from langchain)\n",
            "  Downloading jsonpatch-1.33-py2.py3-none-any.whl (12 kB)\n",
            "Collecting langchain-community<0.1,>=0.0.21 (from langchain)\n",
            "  Downloading langchain_community-0.0.24-py3-none-any.whl (1.7 MB)\n",
            "\u001b[2K     \u001b[90m━━━━━━━━━━━━━━━━━━━━━━━━━━━━━━━━━━━━━━━━\u001b[0m \u001b[32m1.7/1.7 MB\u001b[0m \u001b[31m29.7 MB/s\u001b[0m eta \u001b[36m0:00:00\u001b[0m\n",
            "\u001b[?25hCollecting langchain-core<0.2,>=0.1.26 (from langchain)\n",
            "  Downloading langchain_core-0.1.26-py3-none-any.whl (246 kB)\n",
            "\u001b[2K     \u001b[90m━━━━━━━━━━━━━━━━━━━━━━━━━━━━━━━━━━━━━━━━\u001b[0m \u001b[32m246.4/246.4 kB\u001b[0m \u001b[31m21.4 MB/s\u001b[0m eta \u001b[36m0:00:00\u001b[0m\n",
            "\u001b[?25hCollecting langsmith<0.2.0,>=0.1.0 (from langchain)\n",
            "  Downloading langsmith-0.1.8-py3-none-any.whl (62 kB)\n",
            "\u001b[2K     \u001b[90m━━━━━━━━━━━━━━━━━━━━━━━━━━━━━━━━━━━━━━━━\u001b[0m \u001b[32m62.2/62.2 kB\u001b[0m \u001b[31m6.3 MB/s\u001b[0m eta \u001b[36m0:00:00\u001b[0m\n",
            "\u001b[?25hRequirement already satisfied: numpy<2,>=1 in /usr/local/lib/python3.10/dist-packages (from langchain) (1.25.2)\n",
            "Requirement already satisfied: pydantic<3,>=1 in /usr/local/lib/python3.10/dist-packages (from langchain) (2.6.1)\n",
            "Requirement already satisfied: requests<3,>=2 in /usr/local/lib/python3.10/dist-packages (from langchain) (2.31.0)\n",
            "Requirement already satisfied: tenacity<9.0.0,>=8.1.0 in /usr/local/lib/python3.10/dist-packages (from langchain) (8.2.3)\n",
            "Requirement already satisfied: aiosignal>=1.1.2 in /usr/local/lib/python3.10/dist-packages (from aiohttp<4.0.0,>=3.8.3->langchain) (1.3.1)\n",
            "Requirement already satisfied: attrs>=17.3.0 in /usr/local/lib/python3.10/dist-packages (from aiohttp<4.0.0,>=3.8.3->langchain) (23.2.0)\n",
            "Requirement already satisfied: frozenlist>=1.1.1 in /usr/local/lib/python3.10/dist-packages (from aiohttp<4.0.0,>=3.8.3->langchain) (1.4.1)\n",
            "Requirement already satisfied: multidict<7.0,>=4.5 in /usr/local/lib/python3.10/dist-packages (from aiohttp<4.0.0,>=3.8.3->langchain) (6.0.5)\n",
            "Requirement already satisfied: yarl<2.0,>=1.0 in /usr/local/lib/python3.10/dist-packages (from aiohttp<4.0.0,>=3.8.3->langchain) (1.9.4)\n",
            "Collecting marshmallow<4.0.0,>=3.18.0 (from dataclasses-json<0.7,>=0.5.7->langchain)\n",
            "  Downloading marshmallow-3.20.2-py3-none-any.whl (49 kB)\n",
            "\u001b[2K     \u001b[90m━━━━━━━━━━━━━━━━━━━━━━━━━━━━━━━━━━━━━━━━\u001b[0m \u001b[32m49.4/49.4 kB\u001b[0m \u001b[31m5.0 MB/s\u001b[0m eta \u001b[36m0:00:00\u001b[0m\n",
            "\u001b[?25hCollecting typing-inspect<1,>=0.4.0 (from dataclasses-json<0.7,>=0.5.7->langchain)\n",
            "  Downloading typing_inspect-0.9.0-py3-none-any.whl (8.8 kB)\n",
            "Collecting jsonpointer>=1.9 (from jsonpatch<2.0,>=1.33->langchain)\n",
            "  Downloading jsonpointer-2.4-py2.py3-none-any.whl (7.8 kB)\n",
            "Requirement already satisfied: anyio<5,>=3 in /usr/local/lib/python3.10/dist-packages (from langchain-core<0.2,>=0.1.26->langchain) (3.7.1)\n",
            "Requirement already satisfied: packaging<24.0,>=23.2 in /usr/local/lib/python3.10/dist-packages (from langchain-core<0.2,>=0.1.26->langchain) (23.2)\n",
            "Collecting orjson<4.0.0,>=3.9.14 (from langsmith<0.2.0,>=0.1.0->langchain)\n",
            "  Downloading orjson-3.9.15-cp310-cp310-manylinux_2_17_x86_64.manylinux2014_x86_64.whl (138 kB)\n",
            "\u001b[2K     \u001b[90m━━━━━━━━━━━━━━━━━━━━━━━━━━━━━━━━━━━━━━━━\u001b[0m \u001b[32m138.5/138.5 kB\u001b[0m \u001b[31m10.0 MB/s\u001b[0m eta \u001b[36m0:00:00\u001b[0m\n",
            "\u001b[?25hRequirement already satisfied: annotated-types>=0.4.0 in /usr/local/lib/python3.10/dist-packages (from pydantic<3,>=1->langchain) (0.6.0)\n",
            "Requirement already satisfied: pydantic-core==2.16.2 in /usr/local/lib/python3.10/dist-packages (from pydantic<3,>=1->langchain) (2.16.2)\n",
            "Requirement already satisfied: typing-extensions>=4.6.1 in /usr/local/lib/python3.10/dist-packages (from pydantic<3,>=1->langchain) (4.9.0)\n",
            "Requirement already satisfied: charset-normalizer<4,>=2 in /usr/local/lib/python3.10/dist-packages (from requests<3,>=2->langchain) (3.3.2)\n",
            "Requirement already satisfied: idna<4,>=2.5 in /usr/local/lib/python3.10/dist-packages (from requests<3,>=2->langchain) (3.6)\n",
            "Requirement already satisfied: urllib3<3,>=1.21.1 in /usr/local/lib/python3.10/dist-packages (from requests<3,>=2->langchain) (2.0.7)\n",
            "Requirement already satisfied: certifi>=2017.4.17 in /usr/local/lib/python3.10/dist-packages (from requests<3,>=2->langchain) (2024.2.2)\n",
            "Requirement already satisfied: greenlet!=0.4.17 in /usr/local/lib/python3.10/dist-packages (from SQLAlchemy<3,>=1.4->langchain) (3.0.3)\n",
            "Requirement already satisfied: sniffio>=1.1 in /usr/local/lib/python3.10/dist-packages (from anyio<5,>=3->langchain-core<0.2,>=0.1.26->langchain) (1.3.0)\n",
            "Requirement already satisfied: exceptiongroup in /usr/local/lib/python3.10/dist-packages (from anyio<5,>=3->langchain-core<0.2,>=0.1.26->langchain) (1.2.0)\n",
            "Collecting mypy-extensions>=0.3.0 (from typing-inspect<1,>=0.4.0->dataclasses-json<0.7,>=0.5.7->langchain)\n",
            "  Downloading mypy_extensions-1.0.0-py3-none-any.whl (4.7 kB)\n",
            "Installing collected packages: orjson, mypy-extensions, marshmallow, jsonpointer, typing-inspect, jsonpatch, langsmith, dataclasses-json, langchain-core, langchain-community, langchain, langchain_experimental\n",
            "Successfully installed dataclasses-json-0.6.4 jsonpatch-1.33 jsonpointer-2.4 langchain-0.1.9 langchain-community-0.0.24 langchain-core-0.1.26 langchain_experimental-0.0.52 langsmith-0.1.8 marshmallow-3.20.2 mypy-extensions-1.0.0 orjson-3.9.15 typing-inspect-0.9.0\n"
          ]
        }
      ],
      "source": [
        "!pip install langchain langchain_experimental"
      ]
    },
    {
      "cell_type": "code",
      "execution_count": 7,
      "metadata": {
        "colab": {
          "base_uri": "https://localhost:8080/"
        },
        "id": "PIXREiVvagss",
        "outputId": "26f4c52a-e3bc-456d-8e36-7477c8de9d8b"
      },
      "outputs": [
        {
          "name": "stdout",
          "output_type": "stream",
          "text": [
            "\u001b[?25l     \u001b[90m━━━━━━━━━━━━━━━━━━━━━━━━━━━━━━━━━━━━━━━━\u001b[0m \u001b[32m0.0/284.0 kB\u001b[0m \u001b[31m?\u001b[0m eta \u001b[36m-:--:--\u001b[0m\r\u001b[2K     \u001b[91m━━━━\u001b[0m\u001b[90m╺\u001b[0m\u001b[90m━━━━━━━━━━━━━━━━━━━━━━━━━━━━━━━━━━━\u001b[0m \u001b[32m30.7/284.0 kB\u001b[0m \u001b[31m886.3 kB/s\u001b[0m eta \u001b[36m0:00:01\u001b[0m\r\u001b[2K     \u001b[91m━━━━━━━━━━━━━━\u001b[0m\u001b[90m╺\u001b[0m\u001b[90m━━━━━━━━━━━━━━━━━━━━━━━━━\u001b[0m \u001b[32m102.4/284.0 kB\u001b[0m \u001b[31m1.4 MB/s\u001b[0m eta \u001b[36m0:00:01\u001b[0m\r\u001b[2K     \u001b[91m━━━━━━━━━━━━━━━━━━━━━━━━━━━━━━━━━━━━━━\u001b[0m\u001b[91m╸\u001b[0m\u001b[90m━\u001b[0m \u001b[32m276.5/284.0 kB\u001b[0m \u001b[31m2.6 MB/s\u001b[0m eta \u001b[36m0:00:01\u001b[0m\r\u001b[2K     \u001b[90m━━━━━━━━━━━━━━━━━━━━━━━━━━━━━━━━━━━━━━━━\u001b[0m \u001b[32m284.0/284.0 kB\u001b[0m \u001b[31m2.3 MB/s\u001b[0m eta \u001b[36m0:00:00\u001b[0m\n",
            "\u001b[?25h"
          ]
        }
      ],
      "source": [
        "!pip install -qU pypdf"
      ]
    },
    {
      "cell_type": "code",
      "execution_count": 16,
      "metadata": {
        "colab": {
          "base_uri": "https://localhost:8080/"
        },
        "id": "qTaiya1LcAKo",
        "outputId": "df0580bb-4847-43ff-d14a-fb9841a92971"
      },
      "outputs": [
        {
          "name": "stdout",
          "output_type": "stream",
          "text": [
            "Collecting openai\n",
            "  Downloading openai-1.12.0-py3-none-any.whl (226 kB)\n",
            "\u001b[2K     \u001b[90m━━━━━━━━━━━━━━━━━━━━━━━━━━━━━━━━━━━━━━━━\u001b[0m \u001b[32m226.7/226.7 kB\u001b[0m \u001b[31m2.0 MB/s\u001b[0m eta \u001b[36m0:00:00\u001b[0m\n",
            "\u001b[?25hRequirement already satisfied: anyio<5,>=3.5.0 in /usr/local/lib/python3.10/dist-packages (from openai) (3.7.1)\n",
            "Requirement already satisfied: distro<2,>=1.7.0 in /usr/lib/python3/dist-packages (from openai) (1.7.0)\n",
            "Collecting httpx<1,>=0.23.0 (from openai)\n",
            "  Downloading httpx-0.27.0-py3-none-any.whl (75 kB)\n",
            "\u001b[2K     \u001b[90m━━━━━━━━━━━━━━━━━━━━━━━━━━━━━━━━━━━━━━━━\u001b[0m \u001b[32m75.6/75.6 kB\u001b[0m \u001b[31m7.2 MB/s\u001b[0m eta \u001b[36m0:00:00\u001b[0m\n",
            "\u001b[?25hRequirement already satisfied: pydantic<3,>=1.9.0 in /usr/local/lib/python3.10/dist-packages (from openai) (2.6.1)\n",
            "Requirement already satisfied: sniffio in /usr/local/lib/python3.10/dist-packages (from openai) (1.3.0)\n",
            "Requirement already satisfied: tqdm>4 in /usr/local/lib/python3.10/dist-packages (from openai) (4.66.2)\n",
            "Requirement already satisfied: typing-extensions<5,>=4.7 in /usr/local/lib/python3.10/dist-packages (from openai) (4.9.0)\n",
            "Requirement already satisfied: idna>=2.8 in /usr/local/lib/python3.10/dist-packages (from anyio<5,>=3.5.0->openai) (3.6)\n",
            "Requirement already satisfied: exceptiongroup in /usr/local/lib/python3.10/dist-packages (from anyio<5,>=3.5.0->openai) (1.2.0)\n",
            "Requirement already satisfied: certifi in /usr/local/lib/python3.10/dist-packages (from httpx<1,>=0.23.0->openai) (2024.2.2)\n",
            "Collecting httpcore==1.* (from httpx<1,>=0.23.0->openai)\n",
            "  Downloading httpcore-1.0.4-py3-none-any.whl (77 kB)\n",
            "\u001b[2K     \u001b[90m━━━━━━━━━━━━━━━━━━━━━━━━━━━━━━━━━━━━━━━━\u001b[0m \u001b[32m77.8/77.8 kB\u001b[0m \u001b[31m6.8 MB/s\u001b[0m eta \u001b[36m0:00:00\u001b[0m\n",
            "\u001b[?25hCollecting h11<0.15,>=0.13 (from httpcore==1.*->httpx<1,>=0.23.0->openai)\n",
            "  Downloading h11-0.14.0-py3-none-any.whl (58 kB)\n",
            "\u001b[2K     \u001b[90m━━━━━━━━━━━━━━━━━━━━━━━━━━━━━━━━━━━━━━━━\u001b[0m \u001b[32m58.3/58.3 kB\u001b[0m \u001b[31m3.2 MB/s\u001b[0m eta \u001b[36m0:00:00\u001b[0m\n",
            "\u001b[?25hRequirement already satisfied: annotated-types>=0.4.0 in /usr/local/lib/python3.10/dist-packages (from pydantic<3,>=1.9.0->openai) (0.6.0)\n",
            "Requirement already satisfied: pydantic-core==2.16.2 in /usr/local/lib/python3.10/dist-packages (from pydantic<3,>=1.9.0->openai) (2.16.2)\n",
            "Installing collected packages: h11, httpcore, httpx, openai\n",
            "Successfully installed h11-0.14.0 httpcore-1.0.4 httpx-0.27.0 openai-1.12.0\n"
          ]
        }
      ],
      "source": [
        "!pip install openai"
      ]
    },
    {
      "cell_type": "code",
      "execution_count": 2,
      "metadata": {
        "id": "NI9_nL25htQH"
      },
      "outputs": [],
      "source": [
        "import langchain\n",
        "from langchain.text_splitter import RecursiveCharacterTextSplitter\n",
        "from langchain_experimental.text_splitter import SemanticChunker"
      ]
    },
    {
      "cell_type": "code",
      "execution_count": 3,
      "metadata": {
        "id": "3ibm7XK2iOOE"
      },
      "outputs": [],
      "source": [
        "#importing the document\n",
        "doc = \"/content/drive/MyDrive/10academy/contract rag/Raptor Contract.docx.txt\""
      ]
    },
    {
      "cell_type": "code",
      "execution_count": 4,
      "metadata": {
        "id": "D0f6RQ3giZQb"
      },
      "outputs": [],
      "source": [
        "#reading the file\n",
        "with open(doc, 'r') as file:\n",
        "    doc_content = file.read()"
      ]
    },
    {
      "cell_type": "markdown",
      "metadata": {
        "id": "PGwp436kiMMc"
      },
      "source": [
        "### CHUNKING"
      ]
    },
    {
      "cell_type": "code",
      "execution_count": 5,
      "metadata": {
        "id": "9TlYZiL2ikp6"
      },
      "outputs": [],
      "source": [
        "#initializing the recursive chunker\n",
        "text_chunker = RecursiveCharacterTextSplitter(\n",
        "    chunk_size = 512,\n",
        "    chunk_overlap = 64,\n",
        "    length_function = len,\n",
        ")"
      ]
    },
    {
      "cell_type": "code",
      "execution_count": 9,
      "metadata": {
        "id": "feC4p-iijI9p"
      },
      "outputs": [],
      "source": [
        "#chunking the data\n",
        "from langchain.document_loaders.pdf import PyPDFDirectoryLoader\n"
      ]
    },
    {
      "cell_type": "code",
      "execution_count": 10,
      "metadata": {
        "colab": {
          "base_uri": "https://localhost:8080/"
        },
        "id": "oIaVD4XdanZj",
        "outputId": "7c08c01b-4333-4fe0-e61f-ef0446eff118"
      },
      "outputs": [
        {
          "name": "stdout",
          "output_type": "stream",
          "text": [
            "73\n",
            "TABLE\n",
            "OF\n",
            "CONTENTS\n",
            "ARTICLE\n",
            "I\n",
            "DEFINITIONS;\n",
            "CER TAIN\n",
            "RULES\n",
            "OF\n",
            "CONSTRUCTION\n",
            "2\n",
            "Section\n",
            "1.01\n",
            "Definitions\n",
            "2\n",
            "Section\n",
            "1.02\n",
            "Certain\n",
            "Matters\n",
            "of\n",
            "Construction\n",
            "13\n",
            "ARTICLE\n",
            "II\n",
            "PURCHASE\n",
            "AND\n",
            "SALE\n",
            "OF\n",
            "SHARES\n",
            "AND\n",
            "WARRANTS;\n",
            "TREA TMENT \n",
            "OF\n",
            "OPTIONS;\n",
            "CLOSING.\n",
            "14\n",
            "Section\n",
            "2.01\n",
            "Purchase\n",
            "and\n",
            "Sale\n",
            "of\n",
            "Shares\n",
            "14\n",
            "Section\n",
            "2.02\n",
            "Purchase\n",
            "Price\n",
            "14\n",
            "Section\n",
            "2.03\n",
            "The\n",
            "Closing\n",
            "14\n",
            "Section\n",
            "2.04\n",
            "Closing\n",
            "Payments.\n",
            "15\n",
            "Section\n",
            "2.05\n",
            "Closing\n",
            "Deliveries\n",
            "15\n",
            "Section\n",
            "2.06\n",
            "Treatment\n",
            "of\n",
            "Options\n",
            "16\n",
            "Section\n",
            "2.07\n",
            "Purchase\n",
            "Price\n",
            "Adjustment\n",
            "17\n",
            "Section\n",
            "2.08\n",
            "Escrow\n",
            "19\n",
            "ARTICLE\n",
            "III\n",
            "REPRESENT ATIONS\n",
            "AND\n",
            "WARRANTIES\n",
            "REGARDING\n",
            "THE \n",
            "ACQUIRED\n",
            "COMP ANIES.\n",
            "19\n",
            "Section\n",
            "3.01\n",
            "Organization\n",
            "19\n",
            "Section\n",
            "3.02\n",
            "Power\n",
            "and\n",
            "Authorization\n",
            "20\n",
            "Section\n",
            "3.03\n",
            "Authorization\n",
            "of\n",
            "Governmental\n",
            "Authorities\n",
            "20\n",
            "Section\n",
            "3.04\n",
            "Noncontravention\n",
            "20\n",
            "Section\n",
            "3.05\n",
            "Capitalization\n",
            "of\n",
            "the\n",
            "Acquired\n",
            "Companies\n",
            "21\n",
            "Section\n",
            "3.06\n",
            "Financial\n",
            "Matters\n",
            "22\n",
            "Section\n",
            "3.07\n",
            "Absence\n",
            "of\n",
            "Certain\n",
            "Developments\n",
            "22\n",
            "Section\n",
            "3.08\n",
            "Debt;\n",
            "Guarantees\n",
            "24\n",
            "Section\n",
            "3.09\n",
            "Assets\n",
            "25\n",
            "Section\n",
            "3.10\n",
            "Real\n",
            "Property\n",
            "25\n",
            "Section\n",
            "3.11\n",
            "Intellectual\n",
            "Property\n",
            "26\n",
            "Section\n",
            "3.12\n",
            "Legal\n",
            "Compliance;\n",
            "Illegal\n",
            "Payments;\n",
            "Permits\n",
            "29\n",
            "Section\n",
            "3.13\n",
            "Tax\n",
            "Matters\n",
            "30\n",
            "Section\n",
            "3.14\n",
            "Employee\n",
            "Benefit\n",
            "Plans\n",
            "32\n",
            "Section\n",
            "3.15\n",
            "Environmental\n",
            "Matters\n",
            "33\n",
            "Section\n",
            "3.16\n",
            "Contracts\n",
            "34\n",
            "Section\n",
            "3.17\n",
            "Related\n",
            "Party\n",
            "Transactions\n",
            "36\n",
            "Section\n",
            "3.18\n",
            "Customers\n",
            "and\n",
            "Suppliers\n",
            "37\n",
            "-\n",
            "1\n",
            "-\n",
            "112923184_5\n"
          ]
        }
      ],
      "source": [
        "pdf_folder_path = \"/content/drive/MyDrive/10academy/contract rag/raptor_data\"\n",
        "loader = PyPDFDirectoryLoader(pdf_folder_path)\n",
        "docs = loader.load()\n",
        "#\n",
        "print(len(docs))\n",
        "#\n",
        "print(docs[1].page_content)"
      ]
    },
    {
      "cell_type": "code",
      "execution_count": 12,
      "metadata": {
        "id": "0K4RfENzatbA"
      },
      "outputs": [],
      "source": [
        "chunks = text_chunker.split_documents(docs)"
      ]
    },
    {
      "cell_type": "code",
      "execution_count": 14,
      "metadata": {
        "id": "teikIBWSbTgZ"
      },
      "outputs": [],
      "source": [
        "from langchain.embeddings.openai import OpenAIEmbeddings\n",
        "from dotenv import load_dotenv\n",
        "load_dotenv"
      ]
    },
    {
      "cell_type": "code",
      "execution_count": 17,
      "metadata": {
        "id": "_bxBIYbDblzk"
      },
      "outputs": [],
      "source": [
        "# Retrieve the OpenAI API key from the environment\n",
        "openai_api_key1 = os.getenv(\"OPENAI_API_KEY\")\n",
        "\n",
        "embedding = OpenAIEmbeddings(openai_api_key = openai_api_key1)"
      ]
    },
    {
      "cell_type": "code",
      "execution_count": null,
      "metadata": {
        "id": "Ystqlx7ecFij"
      },
      "outputs": [],
      "source": []
    },
    {
      "cell_type": "code",
      "execution_count": 13,
      "metadata": {
        "colab": {
          "base_uri": "https://localhost:8080/"
        },
        "id": "WI37aGomkfFW",
        "outputId": "e39beb27-9ae2-4269-8e01-97e06ae21378"
      },
      "outputs": [
        {
          "name": "stdout",
          "output_type": "stream",
          "text": [
            "526\n"
          ]
        }
      ],
      "source": [
        "print(len(chunks))"
      ]
    },
    {
      "cell_type": "markdown",
      "metadata": {
        "id": "DERpr8YVOumy"
      },
      "source": [
        "### CREATING EMBEDDINGS"
      ]
    },
    {
      "cell_type": "code",
      "execution_count": null,
      "metadata": {
        "id": "cVdVkr-_pINi"
      },
      "outputs": [],
      "source": [
        "!pip install llama-index-embeddings-openai"
      ]
    },
    {
      "cell_type": "code",
      "execution_count": 46,
      "metadata": {
        "id": "ILMs6t3Xiqi2"
      },
      "outputs": [],
      "source": [
        "import os\n",
        "import openai\n",
        "from getpass import getpass"
      ]
    },
    {
      "cell_type": "code",
      "execution_count": 47,
      "metadata": {
        "colab": {
          "base_uri": "https://localhost:8080/"
        },
        "id": "_rTyGtGfilbc",
        "outputId": "e97777c0-5df8-42fe-c693-fd60a2f05640"
      },
      "outputs": [
        {
          "name": "stdout",
          "output_type": "stream",
          "text": [
            "openai API Key:··········\n"
          ]
        }
      ],
      "source": [
        "#getting the openai key\n",
        "os.environ[\"OPENAI_API_KEY\"] = getpass(\"openai API Key:\")"
      ]
    },
    {
      "cell_type": "markdown",
      "metadata": {
        "id": "ZF2Ha8TGV_pw"
      },
      "source": [
        "### Creating the vector database"
      ]
    },
    {
      "cell_type": "code",
      "execution_count": 20,
      "metadata": {
        "colab": {
          "base_uri": "https://localhost:8080/"
        },
        "id": "eB89X-IlxI7c",
        "outputId": "de5c71f0-e515-47af-ac5a-24fa61504f2f"
      },
      "outputs": [
        {
          "name": "stdout",
          "output_type": "stream",
          "text": [
            "Collecting pinecone-Client\n",
            "  Downloading pinecone_client-3.1.0-py3-none-any.whl (210 kB)\n",
            "\u001b[2K     \u001b[90m━━━━━━━━━━━━━━━━━━━━━━━━━━━━━━━━━━━━━━━━\u001b[0m \u001b[32m211.0/211.0 kB\u001b[0m \u001b[31m2.1 MB/s\u001b[0m eta \u001b[36m0:00:00\u001b[0m\n",
            "\u001b[?25hRequirement already satisfied: certifi>=2019.11.17 in /usr/local/lib/python3.10/dist-packages (from pinecone-Client) (2024.2.2)\n",
            "Requirement already satisfied: tqdm>=4.64.1 in /usr/local/lib/python3.10/dist-packages (from pinecone-Client) (4.66.2)\n",
            "Requirement already satisfied: typing-extensions>=3.7.4 in /usr/local/lib/python3.10/dist-packages (from pinecone-Client) (4.9.0)\n",
            "Requirement already satisfied: urllib3>=1.26.0 in /usr/local/lib/python3.10/dist-packages (from pinecone-Client) (2.0.7)\n",
            "Installing collected packages: pinecone-Client\n",
            "Successfully installed pinecone-Client-3.1.0\n"
          ]
        }
      ],
      "source": [
        "!pip install pinecone-Client"
      ]
    },
    {
      "cell_type": "code",
      "execution_count": 33,
      "metadata": {
        "colab": {
          "base_uri": "https://localhost:8080/"
        },
        "id": "7mZKt6CaeXgX",
        "outputId": "7de44e5b-6a29-415e-cf5f-6e76774ceaa1"
      },
      "outputs": [
        {
          "name": "stdout",
          "output_type": "stream",
          "text": [
            "Collecting tiktoken\n",
            "  Downloading tiktoken-0.6.0-cp310-cp310-manylinux_2_17_x86_64.manylinux2014_x86_64.whl (1.8 MB)\n",
            "\u001b[2K     \u001b[90m━━━━━━━━━━━━━━━━━━━━━━━━━━━━━━━━━━━━━━━━\u001b[0m \u001b[32m1.8/1.8 MB\u001b[0m \u001b[31m9.4 MB/s\u001b[0m eta \u001b[36m0:00:00\u001b[0m\n",
            "\u001b[?25hRequirement already satisfied: regex>=2022.1.18 in /usr/local/lib/python3.10/dist-packages (from tiktoken) (2023.12.25)\n",
            "Requirement already satisfied: requests>=2.26.0 in /usr/local/lib/python3.10/dist-packages (from tiktoken) (2.31.0)\n",
            "Requirement already satisfied: charset-normalizer<4,>=2 in /usr/local/lib/python3.10/dist-packages (from requests>=2.26.0->tiktoken) (3.3.2)\n",
            "Requirement already satisfied: idna<4,>=2.5 in /usr/local/lib/python3.10/dist-packages (from requests>=2.26.0->tiktoken) (3.6)\n",
            "Requirement already satisfied: urllib3<3,>=1.21.1 in /usr/local/lib/python3.10/dist-packages (from requests>=2.26.0->tiktoken) (2.0.7)\n",
            "Requirement already satisfied: certifi>=2017.4.17 in /usr/local/lib/python3.10/dist-packages (from requests>=2.26.0->tiktoken) (2024.2.2)\n",
            "Installing collected packages: tiktoken\n",
            "Successfully installed tiktoken-0.6.0\n"
          ]
        }
      ],
      "source": [
        "!pip install tiktoken"
      ]
    },
    {
      "cell_type": "code",
      "execution_count": 21,
      "metadata": {
        "id": "2JPr4sxrzOuO"
      },
      "outputs": [],
      "source": [
        "from pinecone import Pinecone\n",
        "\n",
        "# Retrieve the OpenAI API key from the environment\n",
        "api_key = os.getenv(\"PINECONE_API_KEY\")\n",
        "\n",
        "# configure client\n",
        "pc = Pinecone(api_key=api_key)"
      ]
    },
    {
      "cell_type": "code",
      "execution_count": 26,
      "metadata": {
        "colab": {
          "base_uri": "https://localhost:8080/"
        },
        "id": "HhlVOGMC0I6D",
        "outputId": "e13c1a39-1d52-4616-b63b-9a5afc35d563"
      },
      "outputs": [
        {
          "data": {
            "text/plain": [
              "{'dimension': 1536,\n",
              " 'index_fullness': 0.0,\n",
              " 'namespaces': {},\n",
              " 'total_vector_count': 0}"
            ]
          },
          "execution_count": 26,
          "metadata": {},
          "output_type": "execute_result"
        }
      ],
      "source": [
        "#creating an index\n",
        "import time\n",
        "from pinecone import ServerlessSpec\n",
        "\n",
        "index_name = 'contract1'\n",
        "existing_indexes = [\n",
        "    index_info[\"name\"] for index_info in pc.list_indexes()\n",
        "]\n",
        "\n",
        "# creating index\n",
        "if index_name not in existing_indexes:\n",
        "    # if does not exist, create index\n",
        "    pc.create_index(\n",
        "        index_name,\n",
        "        dimension=1536,  # dimensionality of ada 002\n",
        "        metric='cosine',\n",
        "        spec=ServerlessSpec(\n",
        "        cloud=\"aws\",\n",
        "        region=\"us-west-2\"\n",
        "    )\n",
        "\n",
        "    )\n",
        "    # wait for index to be initialized\n",
        "    while not pc.describe_index(index_name).status['ready']:\n",
        "        time.sleep(1)\n",
        "\n",
        "# connect to index\n",
        "index = pc.Index(index_name)\n",
        "time.sleep(1)\n",
        "# view index stats\n",
        "index.describe_index_stats()"
      ]
    },
    {
      "cell_type": "code",
      "execution_count": 27,
      "metadata": {
        "id": "UyWQNTAAdDdB"
      },
      "outputs": [],
      "source": [
        "from langchain.vectorstores import Pinecone as PineconeVectorStore"
      ]
    },
    {
      "cell_type": "code",
      "execution_count": 31,
      "metadata": {
        "id": "_e644QZeeCWD"
      },
      "outputs": [],
      "source": [
        "import os\n",
        "os.environ['PINECONE_API_KEY'] = PINECONE_API_KEY"
      ]
    },
    {
      "cell_type": "code",
      "execution_count": 34,
      "metadata": {
        "id": "nuteSBwccll_"
      },
      "outputs": [],
      "source": [
        "docsearch=PineconeVectorStore.from_texts(\n",
        "    [t.page_content for t in chunks],\n",
        "    embedding,\n",
        "    index_name=index_name\n",
        ")"
      ]
    },
    {
      "cell_type": "code",
      "execution_count": 40,
      "metadata": {
        "id": "Sqru6PWncqFJ"
      },
      "outputs": [],
      "source": [
        "query = \"Are there any conditions to the closing?\"\n",
        "answ = docsearch.similarity_search(query, k =4)"
      ]
    },
    {
      "cell_type": "code",
      "execution_count": 41,
      "metadata": {
        "colab": {
          "base_uri": "https://localhost:8080/"
        },
        "id": "cs7OucDsfC2g",
        "outputId": "1d871f6b-06f4-41ac-e33f-85b536df7fc2"
      },
      "outputs": [
        {
          "data": {
            "text/plain": [
              "[Document(page_content='after\\nthe\\nClosing\\ncontinue\\nto\\nhave\\ncoverage\\nunder\\nall\\nof\\nthe\\nLiability\\nPolicies\\nwith \\nrespect\\nto\\nevents\\noccurring\\nprior\\nto\\nthe\\nClosing.\\nSection\\nII.22\\nNo\\nBrokers\\n.\\nNo\\nAcquired\\nCompany\\nhas\\nany\\nLiability\\nof\\nany\\nkind\\nto,\\nor\\nis \\nsubject\\nto\\nany\\nclaim\\nof,\\nany\\nbroker ,\\nfinder\\nor\\nagent\\nin\\nconnection\\nwith\\nthe\\nContemplated \\nTransactions\\nother\\nthan\\nthose\\nwhich\\nwill\\nbe\\nborne\\nby\\nthe\\nSellers.\\n-\\n50\\n-\\n112923184_5'),\n",
              " Document(page_content='.\\nThe\\nProposed\\nFinal\\nClosing\\nStatement\\n(and\\nthe\\nproposed\\nfinal \\ndeterminations\\nof\\nthe\\nClosing\\nDebt\\nAmount,\\nthe\\nClosing\\nCash\\nAmount,\\nand\\nthe\\nSeller \\nTransaction\\nExpenses\\nreflected\\nthereon)\\nwill\\nbe\\nfinal,\\nconclusive\\nand\\nbinding\\non\\nthe\\nparties \\nunless\\nthe\\nSellers’\\nRepresentative\\nprovides\\na\\nwritten\\nnotice\\n(a\\n“\\nDispute\\nNotice\\n”)\\nto\\nBuyer\\nno \\nlater\\nthan\\nthe\\nthirtieth\\n(30th)\\nBusiness\\nDay\\nafter\\nthe\\ndelivery\\nto\\nthe\\nSellers’\\nRepresentative\\nof\\nthe \\nProposed\\nFinal\\nClosing\\nStatement.\\nAny\\nDispute\\nNotice\\nmust\\nset\\nforth'),\n",
              " Document(page_content='Obligation\\nis\\nterminated\\nat\\nthe\\nClosing,\\nand\\n(e)\\nin\\nthe\\nnature\\nof\\nGuarantees\\nof,\\nor\\nliens\\non\\nassets\\n-\\n4\\n-\\n112923184_5'),\n",
              " Document(page_content='Pre-Closing \\nEngagements,\\nto\\nany\\nParty\\nother\\nthan\\nthe\\nSellers\\nand\\nthe\\nSellers’\\nRepresentative.\\n-\\n66\\n-\\n112923184_5')]"
            ]
          },
          "execution_count": 41,
          "metadata": {},
          "output_type": "execute_result"
        }
      ],
      "source": [
        "answ"
      ]
    },
    {
      "cell_type": "code",
      "execution_count": 55,
      "metadata": {
        "id": "JfxcRjmPg4_x"
      },
      "outputs": [],
      "source": [
        "#creating a retriever\n",
        "retriever = docsearch.as_retriever(k = 4)"
      ]
    },
    {
      "cell_type": "code",
      "execution_count": 33,
      "metadata": {
        "id": "lgckLZpJVEFu"
      },
      "outputs": [],
      "source": [
        "from langchain.vectorstores import pinecone\n",
        "import pinecone"
      ]
    },
    {
      "cell_type": "markdown",
      "metadata": {
        "id": "qLMJTJqzSLGr"
      },
      "source": [
        "### RAG FUSION"
      ]
    },
    {
      "cell_type": "code",
      "execution_count": 43,
      "metadata": {
        "id": "Vh6ho9iWVvY8"
      },
      "outputs": [],
      "source": [
        "from langchain.prompts import ChatPromptTemplate\n",
        "\n",
        "# RAG-Fusion: Related\n",
        "template = \"\"\"You are a helpful assistant that generates multiple search queries based on a single input query. \\n\n",
        "Generate multiple search queries related to: {question} \\n\n",
        "Output (4 queries):\"\"\"\n",
        "prompt_rag_fusion = ChatPromptTemplate.from_template(template)"
      ]
    },
    {
      "cell_type": "code",
      "execution_count": 48,
      "metadata": {
        "id": "KMKrltUvhDjn"
      },
      "outputs": [],
      "source": [
        "from langchain_core.output_parsers import StrOutputParser\n",
        "from langchain.chat_models import ChatOpenAI\n",
        "\n",
        "generate_queries = (\n",
        "    prompt_rag_fusion\n",
        "    | ChatOpenAI(temperature=0)\n",
        "    | StrOutputParser()\n",
        "    | (lambda x: x.split(\"\\n\"))\n",
        ")"
      ]
    },
    {
      "cell_type": "code",
      "execution_count": 57,
      "metadata": {
        "colab": {
          "base_uri": "https://localhost:8080/"
        },
        "id": "ziIYwROqhJBf",
        "outputId": "5f49a5be-3205-4d63-87cf-32233833a53a"
      },
      "outputs": [
        {
          "name": "stderr",
          "output_type": "stream",
          "text": [
            "/usr/local/lib/python3.10/dist-packages/langchain_core/_api/beta_decorator.py:86: LangChainBetaWarning: The function `loads` is in beta. It is actively being worked on, so the API may change.\n",
            "  warn_beta(\n"
          ]
        },
        {
          "data": {
            "text/plain": [
              "8"
            ]
          },
          "execution_count": 57,
          "metadata": {},
          "output_type": "execute_result"
        }
      ],
      "source": [
        "from langchain.load import dumps, loads\n",
        "\n",
        "def reciprocal_rank_fusion(results: list[list], k=60):\n",
        "    \"\"\" Reciprocal_rank_fusion that takes multiple lists of ranked documents\n",
        "        and an optional parameter k used in the RRF formula \"\"\"\n",
        "\n",
        "    # Initialize a dictionary to hold fused scores for each unique document\n",
        "    fused_scores = {}\n",
        "\n",
        "    # Iterate through each list of ranked documents\n",
        "    for docs in results:\n",
        "        # Iterate through each document in the list, with its rank (position in the list)\n",
        "        for rank, doc in enumerate(docs):\n",
        "            # Convert the document to a string format to use as a key (assumes documents can be serialized to JSON)\n",
        "            doc_str = dumps(doc)\n",
        "            # If the document is not yet in the fused_scores dictionary, add it with an initial score of 0\n",
        "            if doc_str not in fused_scores:\n",
        "                fused_scores[doc_str] = 0\n",
        "            # Retrieve the current score of the document, if any\n",
        "            previous_score = fused_scores[doc_str]\n",
        "            # Update the score of the document using the RRF formula: 1 / (rank + k)\n",
        "            fused_scores[doc_str] += 1 / (rank + k)\n",
        "\n",
        "    # Sort the documents based on their fused scores in descending order to get the final reranked results\n",
        "    reranked_results = [\n",
        "        (loads(doc), score)\n",
        "        for doc, score in sorted(fused_scores.items(), key=lambda x: x[1], reverse=True)\n",
        "    ]\n",
        "\n",
        "    # Return the reranked results as a list of tuples, each containing the document and its fused score\n",
        "    return reranked_results\n",
        "\n",
        "retrieval_chain_rag_fusion = generate_queries | retriever.map()| reciprocal_rank_fusion\n",
        "docs = retrieval_chain_rag_fusion.invoke({\"question\": query})\n",
        "len(docs)"
      ]
    },
    {
      "cell_type": "code",
      "execution_count": 58,
      "metadata": {
        "colab": {
          "base_uri": "https://localhost:8080/"
        },
        "id": "1p0FI2aJkcuP",
        "outputId": "b25cf836-84a9-48d3-af27-915188c21188"
      },
      "outputs": [
        {
          "name": "stdout",
          "output_type": "stream",
          "text": [
            "[(Document(page_content='Obligation\\nis\\nterminated\\nat\\nthe\\nClosing,\\nand\\n(e)\\nin\\nthe\\nnature\\nof\\nGuarantees\\nof,\\nor\\nliens\\non\\nassets\\n-\\n4\\n-\\n112923184_5'), 0.06585580821434867), (Document(page_content='.\\nThe\\nProposed\\nFinal\\nClosing\\nStatement\\n(and\\nthe\\nproposed\\nfinal \\ndeterminations\\nof\\nthe\\nClosing\\nDebt\\nAmount,\\nthe\\nClosing\\nCash\\nAmount,\\nand\\nthe\\nSeller \\nTransaction\\nExpenses\\nreflected\\nthereon)\\nwill\\nbe\\nfinal,\\nconclusive\\nand\\nbinding\\non\\nthe\\nparties \\nunless\\nthe\\nSellers’\\nRepresentative\\nprovides\\na\\nwritten\\nnotice\\n(a\\n“\\nDispute\\nNotice\\n”)\\nto\\nBuyer\\nno \\nlater\\nthan\\nthe\\nthirtieth\\n(30th)\\nBusiness\\nDay\\nafter\\nthe\\ndelivery\\nto\\nthe\\nSellers’\\nRepresentative\\nof\\nthe \\nProposed\\nFinal\\nClosing\\nStatement.\\nAny\\nDispute\\nNotice\\nmust\\nset\\nforth'), 0.06478053939714437), (Document(page_content='Final\\nClosing\\nStatement.\\nAny\\nDispute\\nNotice\\nmust\\nset\\nforth\\nin\\nreasonable\\ndetail\\nany \\nitem\\non\\nthe\\nProposed\\nFinal\\nClosing\\nStatement\\nwhich\\nthe\\nSellers’\\nRepresentative\\nbelieves\\nhas\\nnot \\nbeen\\nprepared\\nin\\naccordance\\nwith\\nthis\\nAgreement.\\nAny\\nitem\\nor\\namount\\nto\\nwhich\\nno\\ndispute\\nis \\nraised\\nin\\nthe\\nDispute\\nNotice\\nwill\\nbe\\nfinal,\\nconclusive\\nand\\nbinding\\non\\nthe\\nparties\\non\\nsuch\\nthirtieth \\n(30th)\\nBusiness\\nDay.\\n(d)\\nResolution\\nof\\nDisputes\\n.\\nBuyer\\nand\\nthe\\nSellers’\\nRepresentative\\nwill\\nattempt\\nto \\npromptly\\nresolve\\nthe\\nmatters'), 0.03278688524590164), (Document(page_content='(or\\nany\\ncorresponding \\nor\\nsimilar\\nprovision\\nor\\nadministrative\\nrule\\nof\\nfederal,\\nstate,\\nlocal\\nor\\nforeign\\nincome\\nTax\\nlaw), \\n(iii) installment\\nsale\\nor\\nopen\\ntransaction\\ndisposition\\nmade\\non\\nor\\nprior\\nto\\nthe\\nClosing\\nDate\\n, \\n(iv) any\\nprepaid\\namount\\nreceived\\non\\nor\\nprior\\nto\\nthe\\nClosing\\nDate\\nother\\nthan\\nprepayments\\nby \\ncustomers.\\n(j)\\nNo\\nAcquired\\nCompany\\nowns\\nany\\nproperty\\nof\\na\\ncharacter ,\\nthe\\nindirect\\ntransfer\\nof \\nwhich,\\npursuant\\nto\\nthis\\nAgreement,\\nwould\\ngive\\nrise\\nto\\nany\\ndocumentary ,\\nstamp,\\nor\\nother\\ntransfer \\nTax.\\n15\\uf020'), 0.032539682539682535), (Document(page_content='with \\nthe\\nEscrow\\nAgreement\\nor\\n(ii)\\nthe\\namount,\\nif\\nany,\\nby\\nwhich\\nsuch\\nestimated\\nPurchase\\nPrice\\npaid\\nat \\nClosing\\nin\\naccordance\\nwith\\nSection 2.05(a)(i)\\nand\\nSection\\n2.07(a)\\nexceeds\\nsuch\\nre-calculated \\nfinal\\nPurchase\\nPrice\\nshall\\nbe\\npaid\\nto\\nthe\\nBuyer ,\\nor\\nits\\ndesignee,\\nin\\naccordance\\nwith\\nthe\\nterms\\nof \\nthe\\nEscrow\\nAgreement\\n(and\\nany\\nremaining\\nbalance\\nof\\nthe\\nEscrow\\nAmount\\nnot\\nrequired\\nto\\nbe \\npaid\\nto\\nthe\\nBuyer\\nshall\\nbe\\nreleased\\nto\\nCompany\\nSecurityholders\\nin\\naccordance\\nwith\\nthe\\nterms\\nof \\nthe\\nEscrow\\nAgreement).'), 0.016666666666666666), (Document(page_content='and\\nagreements.\\nThe\\ncovenants\\nand\\nagreements\\ncontained\\nin\\nthis\\nAgreement\\nthat\\nare \\nto\\nbe\\nperformed\\nafter\\nthe\\nClosing\\nwill\\nsurvive\\nthe\\nClosing\\nin\\naccordance\\nwith\\ntheir\\nterms.\\nNotwithstanding\\nanything\\nin\\nthis\\nAgreement\\n(including\\nin\\nthis\\n \\nSection\\n10.01\\nor\\n \\nSection\\n10.02\\n)\\nor\\notherwise\\nto\\nthe\\ncontrary ,\\nnothing\\nwill\\nlimit\\nor\\nreduce\\nBuyer ’s\\nability\\nto\\nmake\\nclaims\\nor\\nrecover \\nor\\nreceive\\nany\\nremedy\\nfrom\\nany\\nPerson\\nwith\\nrespect\\nto\\nclaims\\narising\\nfrom\\nfraud\\ncommitted\\nby \\nsuch\\nPerson.\\nSection\\nIII.01\\nRecourse'), 0.015873015873015872), (Document(page_content='after\\nthe\\nClosing\\ncontinue\\nto\\nhave\\ncoverage\\nunder\\nall\\nof\\nthe\\nLiability\\nPolicies\\nwith \\nrespect\\nto\\nevents\\noccurring\\nprior\\nto\\nthe\\nClosing.\\nSection\\nII.22\\nNo\\nBrokers\\n.\\nNo\\nAcquired\\nCompany\\nhas\\nany\\nLiability\\nof\\nany\\nkind\\nto,\\nor\\nis \\nsubject\\nto\\nany\\nclaim\\nof,\\nany\\nbroker ,\\nfinder\\nor\\nagent\\nin\\nconnection\\nwith\\nthe\\nContemplated \\nTransactions\\nother\\nthan\\nthose\\nwhich\\nwill\\nbe\\nborne\\nby\\nthe\\nSellers.\\n-\\n50\\n-\\n112923184_5'), 0.015873015873015872), (Document(page_content='any\\nSeller .\\nWithout\\nlimiting\\nthe\\ngenerality\\nof\\nthe\\nforegoing,\\nthe\\nSellers’\\nRepresentative\\nis\\nhereby \\nauthorized,\\non\\nbehalf\\nof\\nthe\\nSellers,\\nto:\\n(i)\\nin\\nconnection\\nwith\\nthe\\nClosing,\\nexecute\\nand\\nreceive\\nall\\ndocuments,\\ninstruments, \\ncertificates,\\nstatements\\nand\\nagreements\\non\\nbehalf\\nof\\nand\\nin\\nthe\\nname\\nof\\neach\\nSeller\\nnecessary\\nto \\neffectuate\\nthe\\nClosing\\nand\\nconsummate\\nthe\\nContemplated\\nTransactions;\\n(ii)\\nreceive\\nand\\ngive\\nall\\nnotices\\nand\\nservice\\nof\\nprocess,\\nmake\\nall\\nfilings,\\nenter\\ninto\\nall \\nContractual\\nObligations,'), 0.015873015873015872)]\n"
          ]
        }
      ],
      "source": [
        "print(docs)"
      ]
    },
    {
      "cell_type": "markdown",
      "metadata": {
        "id": "WJDTc0czhSA5"
      },
      "source": [
        "### Reranking using CohereAI"
      ]
    },
    {
      "cell_type": "code",
      "execution_count": null,
      "metadata": {
        "id": "iK65JHLphKZA"
      },
      "outputs": [],
      "source": [
        "import cohere\n",
        "\n",
        "cohere_api_key1 = os.getenv(\"COHERE_API_KEY\")\n",
        "\n",
        "# init client\n",
        "co = cohere.Client(cohere_api_key1)\n"
      ]
    },
    {
      "cell_type": "code",
      "execution_count": null,
      "metadata": {
        "id": "OVn3UAbihsjH"
      },
      "outputs": [],
      "source": [
        "rerank_docs = co.rerank(\n",
        "    query=query, documents=docs.keys(), top_n=25, model=\"rerank-english-v2.0\"\n",
        ")\n",
        "\n",
        "[docs[doc.document[\"text\"]] for doc in rerank_docs]"
      ]
    },
    {
      "cell_type": "code",
      "execution_count": null,
      "metadata": {},
      "outputs": [],
      "source": []
    }
  ],
  "metadata": {
    "colab": {
      "provenance": []
    },
    "kernelspec": {
      "display_name": "Python 3",
      "name": "python3"
    },
    "language_info": {
      "name": "python"
    }
  },
  "nbformat": 4,
  "nbformat_minor": 0
}
