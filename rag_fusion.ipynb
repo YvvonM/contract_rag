{
  "cells": [
    {
      "cell_type": "markdown",
      "metadata": {
        "id": "OAzL2pK1IWaN"
      },
      "source": [
        "### CHUNKING"
      ]
    },
    {
      "cell_type": "markdown",
      "metadata": {
        "id": "qyALW6lKht7P"
      },
      "source": [
        "**Importing libraries**"
      ]
    },
    {
      "cell_type": "code",
      "execution_count": 1,
      "metadata": {
        "colab": {
          "base_uri": "https://localhost:8080/"
        },
        "id": "kJrFRe6Sh1iw",
        "outputId": "c083180d-312f-4abf-a167-7e52c54e9e97"
      },
      "outputs": [
        {
          "name": "stdout",
          "output_type": "stream",
          "text": [
            "Collecting langchain\n",
            "  Downloading langchain-0.1.9-py3-none-any.whl (816 kB)\n",
            "\u001b[2K     \u001b[90m━━━━━━━━━━━━━━━━━━━━━━━━━━━━━━━━━━━━━━━━\u001b[0m \u001b[32m817.0/817.0 kB\u001b[0m \u001b[31m5.2 MB/s\u001b[0m eta \u001b[36m0:00:00\u001b[0m\n",
            "\u001b[?25hCollecting langchain_experimental\n",
            "  Downloading langchain_experimental-0.0.52-py3-none-any.whl (171 kB)\n",
            "\u001b[2K     \u001b[90m━━━━━━━━━━━━━━━━━━━━━━━━━━━━━━━━━━━━━━━━\u001b[0m \u001b[32m171.6/171.6 kB\u001b[0m \u001b[31m16.7 MB/s\u001b[0m eta \u001b[36m0:00:00\u001b[0m\n",
            "\u001b[?25hRequirement already satisfied: PyYAML>=5.3 in /usr/local/lib/python3.10/dist-packages (from langchain) (6.0.1)\n",
            "Requirement already satisfied: SQLAlchemy<3,>=1.4 in /usr/local/lib/python3.10/dist-packages (from langchain) (2.0.27)\n",
            "Requirement already satisfied: aiohttp<4.0.0,>=3.8.3 in /usr/local/lib/python3.10/dist-packages (from langchain) (3.9.3)\n",
            "Requirement already satisfied: async-timeout<5.0.0,>=4.0.0 in /usr/local/lib/python3.10/dist-packages (from langchain) (4.0.3)\n",
            "Collecting dataclasses-json<0.7,>=0.5.7 (from langchain)\n",
            "  Downloading dataclasses_json-0.6.4-py3-none-any.whl (28 kB)\n",
            "Collecting jsonpatch<2.0,>=1.33 (from langchain)\n",
            "  Downloading jsonpatch-1.33-py2.py3-none-any.whl (12 kB)\n",
            "Collecting langchain-community<0.1,>=0.0.21 (from langchain)\n",
            "  Downloading langchain_community-0.0.24-py3-none-any.whl (1.7 MB)\n",
            "\u001b[2K     \u001b[90m━━━━━━━━━━━━━━━━━━━━━━━━━━━━━━━━━━━━━━━━\u001b[0m \u001b[32m1.7/1.7 MB\u001b[0m \u001b[31m29.7 MB/s\u001b[0m eta \u001b[36m0:00:00\u001b[0m\n",
            "\u001b[?25hCollecting langchain-core<0.2,>=0.1.26 (from langchain)\n",
            "  Downloading langchain_core-0.1.26-py3-none-any.whl (246 kB)\n",
            "\u001b[2K     \u001b[90m━━━━━━━━━━━━━━━━━━━━━━━━━━━━━━━━━━━━━━━━\u001b[0m \u001b[32m246.4/246.4 kB\u001b[0m \u001b[31m21.4 MB/s\u001b[0m eta \u001b[36m0:00:00\u001b[0m\n",
            "\u001b[?25hCollecting langsmith<0.2.0,>=0.1.0 (from langchain)\n",
            "  Downloading langsmith-0.1.8-py3-none-any.whl (62 kB)\n",
            "\u001b[2K     \u001b[90m━━━━━━━━━━━━━━━━━━━━━━━━━━━━━━━━━━━━━━━━\u001b[0m \u001b[32m62.2/62.2 kB\u001b[0m \u001b[31m6.3 MB/s\u001b[0m eta \u001b[36m0:00:00\u001b[0m\n",
            "\u001b[?25hRequirement already satisfied: numpy<2,>=1 in /usr/local/lib/python3.10/dist-packages (from langchain) (1.25.2)\n",
            "Requirement already satisfied: pydantic<3,>=1 in /usr/local/lib/python3.10/dist-packages (from langchain) (2.6.1)\n",
            "Requirement already satisfied: requests<3,>=2 in /usr/local/lib/python3.10/dist-packages (from langchain) (2.31.0)\n",
            "Requirement already satisfied: tenacity<9.0.0,>=8.1.0 in /usr/local/lib/python3.10/dist-packages (from langchain) (8.2.3)\n",
            "Requirement already satisfied: aiosignal>=1.1.2 in /usr/local/lib/python3.10/dist-packages (from aiohttp<4.0.0,>=3.8.3->langchain) (1.3.1)\n",
            "Requirement already satisfied: attrs>=17.3.0 in /usr/local/lib/python3.10/dist-packages (from aiohttp<4.0.0,>=3.8.3->langchain) (23.2.0)\n",
            "Requirement already satisfied: frozenlist>=1.1.1 in /usr/local/lib/python3.10/dist-packages (from aiohttp<4.0.0,>=3.8.3->langchain) (1.4.1)\n",
            "Requirement already satisfied: multidict<7.0,>=4.5 in /usr/local/lib/python3.10/dist-packages (from aiohttp<4.0.0,>=3.8.3->langchain) (6.0.5)\n",
            "Requirement already satisfied: yarl<2.0,>=1.0 in /usr/local/lib/python3.10/dist-packages (from aiohttp<4.0.0,>=3.8.3->langchain) (1.9.4)\n",
            "Collecting marshmallow<4.0.0,>=3.18.0 (from dataclasses-json<0.7,>=0.5.7->langchain)\n",
            "  Downloading marshmallow-3.20.2-py3-none-any.whl (49 kB)\n",
            "\u001b[2K     \u001b[90m━━━━━━━━━━━━━━━━━━━━━━━━━━━━━━━━━━━━━━━━\u001b[0m \u001b[32m49.4/49.4 kB\u001b[0m \u001b[31m5.0 MB/s\u001b[0m eta \u001b[36m0:00:00\u001b[0m\n",
            "\u001b[?25hCollecting typing-inspect<1,>=0.4.0 (from dataclasses-json<0.7,>=0.5.7->langchain)\n",
            "  Downloading typing_inspect-0.9.0-py3-none-any.whl (8.8 kB)\n",
            "Collecting jsonpointer>=1.9 (from jsonpatch<2.0,>=1.33->langchain)\n",
            "  Downloading jsonpointer-2.4-py2.py3-none-any.whl (7.8 kB)\n",
            "Requirement already satisfied: anyio<5,>=3 in /usr/local/lib/python3.10/dist-packages (from langchain-core<0.2,>=0.1.26->langchain) (3.7.1)\n",
            "Requirement already satisfied: packaging<24.0,>=23.2 in /usr/local/lib/python3.10/dist-packages (from langchain-core<0.2,>=0.1.26->langchain) (23.2)\n",
            "Collecting orjson<4.0.0,>=3.9.14 (from langsmith<0.2.0,>=0.1.0->langchain)\n",
            "  Downloading orjson-3.9.15-cp310-cp310-manylinux_2_17_x86_64.manylinux2014_x86_64.whl (138 kB)\n",
            "\u001b[2K     \u001b[90m━━━━━━━━━━━━━━━━━━━━━━━━━━━━━━━━━━━━━━━━\u001b[0m \u001b[32m138.5/138.5 kB\u001b[0m \u001b[31m10.0 MB/s\u001b[0m eta \u001b[36m0:00:00\u001b[0m\n",
            "\u001b[?25hRequirement already satisfied: annotated-types>=0.4.0 in /usr/local/lib/python3.10/dist-packages (from pydantic<3,>=1->langchain) (0.6.0)\n",
            "Requirement already satisfied: pydantic-core==2.16.2 in /usr/local/lib/python3.10/dist-packages (from pydantic<3,>=1->langchain) (2.16.2)\n",
            "Requirement already satisfied: typing-extensions>=4.6.1 in /usr/local/lib/python3.10/dist-packages (from pydantic<3,>=1->langchain) (4.9.0)\n",
            "Requirement already satisfied: charset-normalizer<4,>=2 in /usr/local/lib/python3.10/dist-packages (from requests<3,>=2->langchain) (3.3.2)\n",
            "Requirement already satisfied: idna<4,>=2.5 in /usr/local/lib/python3.10/dist-packages (from requests<3,>=2->langchain) (3.6)\n",
            "Requirement already satisfied: urllib3<3,>=1.21.1 in /usr/local/lib/python3.10/dist-packages (from requests<3,>=2->langchain) (2.0.7)\n",
            "Requirement already satisfied: certifi>=2017.4.17 in /usr/local/lib/python3.10/dist-packages (from requests<3,>=2->langchain) (2024.2.2)\n",
            "Requirement already satisfied: greenlet!=0.4.17 in /usr/local/lib/python3.10/dist-packages (from SQLAlchemy<3,>=1.4->langchain) (3.0.3)\n",
            "Requirement already satisfied: sniffio>=1.1 in /usr/local/lib/python3.10/dist-packages (from anyio<5,>=3->langchain-core<0.2,>=0.1.26->langchain) (1.3.0)\n",
            "Requirement already satisfied: exceptiongroup in /usr/local/lib/python3.10/dist-packages (from anyio<5,>=3->langchain-core<0.2,>=0.1.26->langchain) (1.2.0)\n",
            "Collecting mypy-extensions>=0.3.0 (from typing-inspect<1,>=0.4.0->dataclasses-json<0.7,>=0.5.7->langchain)\n",
            "  Downloading mypy_extensions-1.0.0-py3-none-any.whl (4.7 kB)\n",
            "Installing collected packages: orjson, mypy-extensions, marshmallow, jsonpointer, typing-inspect, jsonpatch, langsmith, dataclasses-json, langchain-core, langchain-community, langchain, langchain_experimental\n",
            "Successfully installed dataclasses-json-0.6.4 jsonpatch-1.33 jsonpointer-2.4 langchain-0.1.9 langchain-community-0.0.24 langchain-core-0.1.26 langchain_experimental-0.0.52 langsmith-0.1.8 marshmallow-3.20.2 mypy-extensions-1.0.0 orjson-3.9.15 typing-inspect-0.9.0\n"
          ]
        }
      ],
      "source": [
        "!pip install langchain langchain_experimental"
      ]
    },
    {
      "cell_type": "code",
      "execution_count": 7,
      "metadata": {
        "colab": {
          "base_uri": "https://localhost:8080/"
        },
        "id": "PIXREiVvagss",
        "outputId": "26f4c52a-e3bc-456d-8e36-7477c8de9d8b"
      },
      "outputs": [
        {
          "name": "stdout",
          "output_type": "stream",
          "text": [
            "\u001b[?25l     \u001b[90m━━━━━━━━━━━━━━━━━━━━━━━━━━━━━━━━━━━━━━━━\u001b[0m \u001b[32m0.0/284.0 kB\u001b[0m \u001b[31m?\u001b[0m eta \u001b[36m-:--:--\u001b[0m\r\u001b[2K     \u001b[91m━━━━\u001b[0m\u001b[90m╺\u001b[0m\u001b[90m━━━━━━━━━━━━━━━━━━━━━━━━━━━━━━━━━━━\u001b[0m \u001b[32m30.7/284.0 kB\u001b[0m \u001b[31m886.3 kB/s\u001b[0m eta \u001b[36m0:00:01\u001b[0m\r\u001b[2K     \u001b[91m━━━━━━━━━━━━━━\u001b[0m\u001b[90m╺\u001b[0m\u001b[90m━━━━━━━━━━━━━━━━━━━━━━━━━\u001b[0m \u001b[32m102.4/284.0 kB\u001b[0m \u001b[31m1.4 MB/s\u001b[0m eta \u001b[36m0:00:01\u001b[0m\r\u001b[2K     \u001b[91m━━━━━━━━━━━━━━━━━━━━━━━━━━━━━━━━━━━━━━\u001b[0m\u001b[91m╸\u001b[0m\u001b[90m━\u001b[0m \u001b[32m276.5/284.0 kB\u001b[0m \u001b[31m2.6 MB/s\u001b[0m eta \u001b[36m0:00:01\u001b[0m\r\u001b[2K     \u001b[90m━━━━━━━━━━━━━━━━━━━━━━━━━━━━━━━━━━━━━━━━\u001b[0m \u001b[32m284.0/284.0 kB\u001b[0m \u001b[31m2.3 MB/s\u001b[0m eta \u001b[36m0:00:00\u001b[0m\n",
            "\u001b[?25h"
          ]
        }
      ],
      "source": [
        "!pip install -qU pypdf"
      ]
    },
    {
      "cell_type": "code",
      "execution_count": 16,
      "metadata": {
        "colab": {
          "base_uri": "https://localhost:8080/"
        },
        "id": "qTaiya1LcAKo",
        "outputId": "df0580bb-4847-43ff-d14a-fb9841a92971"
      },
      "outputs": [
        {
          "name": "stdout",
          "output_type": "stream",
          "text": [
            "Collecting openai\n",
            "  Downloading openai-1.12.0-py3-none-any.whl (226 kB)\n",
            "\u001b[2K     \u001b[90m━━━━━━━━━━━━━━━━━━━━━━━━━━━━━━━━━━━━━━━━\u001b[0m \u001b[32m226.7/226.7 kB\u001b[0m \u001b[31m2.0 MB/s\u001b[0m eta \u001b[36m0:00:00\u001b[0m\n",
            "\u001b[?25hRequirement already satisfied: anyio<5,>=3.5.0 in /usr/local/lib/python3.10/dist-packages (from openai) (3.7.1)\n",
            "Requirement already satisfied: distro<2,>=1.7.0 in /usr/lib/python3/dist-packages (from openai) (1.7.0)\n",
            "Collecting httpx<1,>=0.23.0 (from openai)\n",
            "  Downloading httpx-0.27.0-py3-none-any.whl (75 kB)\n",
            "\u001b[2K     \u001b[90m━━━━━━━━━━━━━━━━━━━━━━━━━━━━━━━━━━━━━━━━\u001b[0m \u001b[32m75.6/75.6 kB\u001b[0m \u001b[31m7.2 MB/s\u001b[0m eta \u001b[36m0:00:00\u001b[0m\n",
            "\u001b[?25hRequirement already satisfied: pydantic<3,>=1.9.0 in /usr/local/lib/python3.10/dist-packages (from openai) (2.6.1)\n",
            "Requirement already satisfied: sniffio in /usr/local/lib/python3.10/dist-packages (from openai) (1.3.0)\n",
            "Requirement already satisfied: tqdm>4 in /usr/local/lib/python3.10/dist-packages (from openai) (4.66.2)\n",
            "Requirement already satisfied: typing-extensions<5,>=4.7 in /usr/local/lib/python3.10/dist-packages (from openai) (4.9.0)\n",
            "Requirement already satisfied: idna>=2.8 in /usr/local/lib/python3.10/dist-packages (from anyio<5,>=3.5.0->openai) (3.6)\n",
            "Requirement already satisfied: exceptiongroup in /usr/local/lib/python3.10/dist-packages (from anyio<5,>=3.5.0->openai) (1.2.0)\n",
            "Requirement already satisfied: certifi in /usr/local/lib/python3.10/dist-packages (from httpx<1,>=0.23.0->openai) (2024.2.2)\n",
            "Collecting httpcore==1.* (from httpx<1,>=0.23.0->openai)\n",
            "  Downloading httpcore-1.0.4-py3-none-any.whl (77 kB)\n",
            "\u001b[2K     \u001b[90m━━━━━━━━━━━━━━━━━━━━━━━━━━━━━━━━━━━━━━━━\u001b[0m \u001b[32m77.8/77.8 kB\u001b[0m \u001b[31m6.8 MB/s\u001b[0m eta \u001b[36m0:00:00\u001b[0m\n",
            "\u001b[?25hCollecting h11<0.15,>=0.13 (from httpcore==1.*->httpx<1,>=0.23.0->openai)\n",
            "  Downloading h11-0.14.0-py3-none-any.whl (58 kB)\n",
            "\u001b[2K     \u001b[90m━━━━━━━━━━━━━━━━━━━━━━━━━━━━━━━━━━━━━━━━\u001b[0m \u001b[32m58.3/58.3 kB\u001b[0m \u001b[31m3.2 MB/s\u001b[0m eta \u001b[36m0:00:00\u001b[0m\n",
            "\u001b[?25hRequirement already satisfied: annotated-types>=0.4.0 in /usr/local/lib/python3.10/dist-packages (from pydantic<3,>=1.9.0->openai) (0.6.0)\n",
            "Requirement already satisfied: pydantic-core==2.16.2 in /usr/local/lib/python3.10/dist-packages (from pydantic<3,>=1.9.0->openai) (2.16.2)\n",
            "Installing collected packages: h11, httpcore, httpx, openai\n",
            "Successfully installed h11-0.14.0 httpcore-1.0.4 httpx-0.27.0 openai-1.12.0\n"
          ]
        }
      ],
      "source": [
        "!pip install openai"
      ]
    },
    {
      "cell_type": "code",
      "execution_count": 2,
      "metadata": {
        "id": "NI9_nL25htQH"
      },
      "outputs": [],
      "source": [
        "import langchain\n",
        "from langchain.text_splitter import RecursiveCharacterTextSplitter\n",
        "from langchain_experimental.text_splitter import SemanticChunker"
      ]
    },
    {
      "cell_type": "code",
      "execution_count": 3,
      "metadata": {
        "id": "3ibm7XK2iOOE"
      },
      "outputs": [],
      "source": [
        "#importing the document\n",
        "doc = \"/content/drive/MyDrive/10academy/contract rag/Raptor Contract.docx.txt\""
      ]
    },
    {
      "cell_type": "code",
      "execution_count": 4,
      "metadata": {
        "id": "D0f6RQ3giZQb"
      },
      "outputs": [],
      "source": [
        "#reading the file\n",
        "with open(doc, 'r') as file:\n",
        "    doc_content = file.read()"
      ]
    },
    {
      "cell_type": "markdown",
      "metadata": {
        "id": "PGwp436kiMMc"
      },
      "source": [
        "### CHUNKING"
      ]
    },
    {
      "cell_type": "code",
      "execution_count": 5,
      "metadata": {
        "id": "9TlYZiL2ikp6"
      },
      "outputs": [],
      "source": [
        "#initializing the recursive chunker\n",
        "text_chunker = RecursiveCharacterTextSplitter(\n",
        "    chunk_size = 512,\n",
        "    chunk_overlap = 64,\n",
        "    length_function = len,\n",
        ")"
      ]
    },
    {
      "cell_type": "code",
      "execution_count": 9,
      "metadata": {
        "id": "feC4p-iijI9p"
      },
      "outputs": [],
      "source": [
        "#chunking the data\n",
        "from langchain.document_loaders.pdf import PyPDFDirectoryLoader\n"
      ]
    },
    {
      "cell_type": "code",
      "execution_count": 10,
      "metadata": {
        "colab": {
          "base_uri": "https://localhost:8080/"
        },
        "id": "oIaVD4XdanZj",
        "outputId": "7c08c01b-4333-4fe0-e61f-ef0446eff118"
      },
      "outputs": [
        {
          "name": "stdout",
          "output_type": "stream",
          "text": [
            "73\n",
            "TABLE\n",
            "OF\n",
            "CONTENTS\n",
            "ARTICLE\n",
            "I\n",
            "DEFINITIONS;\n",
            "CER TAIN\n",
            "RULES\n",
            "OF\n",
            "CONSTRUCTION\n",
            "2\n",
            "Section\n",
            "1.01\n",
            "Definitions\n",
            "2\n",
            "Section\n",
            "1.02\n",
            "Certain\n",
            "Matters\n",
            "of\n",
            "Construction\n",
            "13\n",
            "ARTICLE\n",
            "II\n",
            "PURCHASE\n",
            "AND\n",
            "SALE\n",
            "OF\n",
            "SHARES\n",
            "AND\n",
            "WARRANTS;\n",
            "TREA TMENT \n",
            "OF\n",
            "OPTIONS;\n",
            "CLOSING.\n",
            "14\n",
            "Section\n",
            "2.01\n",
            "Purchase\n",
            "and\n",
            "Sale\n",
            "of\n",
            "Shares\n",
            "14\n",
            "Section\n",
            "2.02\n",
            "Purchase\n",
            "Price\n",
            "14\n",
            "Section\n",
            "2.03\n",
            "The\n",
            "Closing\n",
            "14\n",
            "Section\n",
            "2.04\n",
            "Closing\n",
            "Payments.\n",
            "15\n",
            "Section\n",
            "2.05\n",
            "Closing\n",
            "Deliveries\n",
            "15\n",
            "Section\n",
            "2.06\n",
            "Treatment\n",
            "of\n",
            "Options\n",
            "16\n",
            "Section\n",
            "2.07\n",
            "Purchase\n",
            "Price\n",
            "Adjustment\n",
            "17\n",
            "Section\n",
            "2.08\n",
            "Escrow\n",
            "19\n",
            "ARTICLE\n",
            "III\n",
            "REPRESENT ATIONS\n",
            "AND\n",
            "WARRANTIES\n",
            "REGARDING\n",
            "THE \n",
            "ACQUIRED\n",
            "COMP ANIES.\n",
            "19\n",
            "Section\n",
            "3.01\n",
            "Organization\n",
            "19\n",
            "Section\n",
            "3.02\n",
            "Power\n",
            "and\n",
            "Authorization\n",
            "20\n",
            "Section\n",
            "3.03\n",
            "Authorization\n",
            "of\n",
            "Governmental\n",
            "Authorities\n",
            "20\n",
            "Section\n",
            "3.04\n",
            "Noncontravention\n",
            "20\n",
            "Section\n",
            "3.05\n",
            "Capitalization\n",
            "of\n",
            "the\n",
            "Acquired\n",
            "Companies\n",
            "21\n",
            "Section\n",
            "3.06\n",
            "Financial\n",
            "Matters\n",
            "22\n",
            "Section\n",
            "3.07\n",
            "Absence\n",
            "of\n",
            "Certain\n",
            "Developments\n",
            "22\n",
            "Section\n",
            "3.08\n",
            "Debt;\n",
            "Guarantees\n",
            "24\n",
            "Section\n",
            "3.09\n",
            "Assets\n",
            "25\n",
            "Section\n",
            "3.10\n",
            "Real\n",
            "Property\n",
            "25\n",
            "Section\n",
            "3.11\n",
            "Intellectual\n",
            "Property\n",
            "26\n",
            "Section\n",
            "3.12\n",
            "Legal\n",
            "Compliance;\n",
            "Illegal\n",
            "Payments;\n",
            "Permits\n",
            "29\n",
            "Section\n",
            "3.13\n",
            "Tax\n",
            "Matters\n",
            "30\n",
            "Section\n",
            "3.14\n",
            "Employee\n",
            "Benefit\n",
            "Plans\n",
            "32\n",
            "Section\n",
            "3.15\n",
            "Environmental\n",
            "Matters\n",
            "33\n",
            "Section\n",
            "3.16\n",
            "Contracts\n",
            "34\n",
            "Section\n",
            "3.17\n",
            "Related\n",
            "Party\n",
            "Transactions\n",
            "36\n",
            "Section\n",
            "3.18\n",
            "Customers\n",
            "and\n",
            "Suppliers\n",
            "37\n",
            "-\n",
            "1\n",
            "-\n",
            "112923184_5\n"
          ]
        }
      ],
      "source": [
        "pdf_folder_path = \"/content/drive/MyDrive/10academy/contract rag/raptor_data\"\n",
        "loader = PyPDFDirectoryLoader(pdf_folder_path)\n",
        "docs = loader.load()\n",
        "#\n",
        "print(len(docs))\n",
        "#\n",
        "print(docs[1].page_content)"
      ]
    },
    {
      "cell_type": "code",
      "execution_count": 12,
      "metadata": {
        "id": "0K4RfENzatbA"
      },
      "outputs": [],
      "source": [
        "chunks = text_chunker.split_documents(docs)"
      ]
    },
    {
      "cell_type": "code",
      "execution_count": 14,
      "metadata": {
        "id": "teikIBWSbTgZ"
      },
      "outputs": [],
      "source": [
        "from langchain.embeddings.openai import OpenAIEmbeddings"
      ]
    },
    {
      "cell_type": "code",
      "execution_count": 17,
      "metadata": {
        "id": "_bxBIYbDblzk"
      },
      "outputs": [],
      "source": [
        "# Retrieve the OpenAI API key from the environment\n",
        "openai_api_key1 = os.getenv(\"OPENAI_API_KEY\")\n",
        "\n",
        "embedding = OpenAIEmbeddings(openai_api_key = openai_api_key1)"
      ]
    },
    {
      "cell_type": "code",
      "execution_count": null,
      "metadata": {
        "id": "Ystqlx7ecFij"
      },
      "outputs": [],
      "source": []
    },
    {
      "cell_type": "code",
      "execution_count": 13,
      "metadata": {
        "colab": {
          "base_uri": "https://localhost:8080/"
        },
        "id": "WI37aGomkfFW",
        "outputId": "e39beb27-9ae2-4269-8e01-97e06ae21378"
      },
      "outputs": [
        {
          "name": "stdout",
          "output_type": "stream",
          "text": [
            "526\n"
          ]
        }
      ],
      "source": [
        "print(len(chunks))"
      ]
    },
    {
      "cell_type": "markdown",
      "metadata": {
        "id": "DERpr8YVOumy"
      },
      "source": [
        "### CREATING EMBEDDINGS"
      ]
    },
    {
      "cell_type": "code",
      "execution_count": null,
      "metadata": {
        "id": "cVdVkr-_pINi"
      },
      "outputs": [],
      "source": [
        "!pip install llama-index-embeddings-openai"
      ]
    },
    {
      "cell_type": "code",
      "execution_count": 46,
      "metadata": {
        "id": "ILMs6t3Xiqi2"
      },
      "outputs": [],
      "source": [
        "import os\n",
        "import openai\n",
        "from getpass import getpass"
      ]
    },
    {
      "cell_type": "code",
      "execution_count": 47,
      "metadata": {
        "colab": {
          "base_uri": "https://localhost:8080/"
        },
        "id": "_rTyGtGfilbc",
        "outputId": "e97777c0-5df8-42fe-c693-fd60a2f05640"
      },
      "outputs": [
        {
          "name": "stdout",
          "output_type": "stream",
          "text": [
            "openai API Key:··········\n"
          ]
        }
      ],
      "source": [
        "#getting the openai key\n",
        "os.environ[\"OPENAI_API_KEY\"] = getpass(\"openai API Key:\")"
      ]
    },
    {
      "cell_type": "markdown",
      "metadata": {
        "id": "ZF2Ha8TGV_pw"
      },
      "source": [
        "### Creating the vector database"
      ]
    },
    {
      "cell_type": "code",
      "execution_count": 20,
      "metadata": {
        "colab": {
          "base_uri": "https://localhost:8080/"
        },
        "id": "eB89X-IlxI7c",
        "outputId": "de5c71f0-e515-47af-ac5a-24fa61504f2f"
      },
      "outputs": [
        {
          "name": "stdout",
          "output_type": "stream",
          "text": [
            "Collecting pinecone-Client\n",
            "  Downloading pinecone_client-3.1.0-py3-none-any.whl (210 kB)\n",
            "\u001b[2K     \u001b[90m━━━━━━━━━━━━━━━━━━━━━━━━━━━━━━━━━━━━━━━━\u001b[0m \u001b[32m211.0/211.0 kB\u001b[0m \u001b[31m2.1 MB/s\u001b[0m eta \u001b[36m0:00:00\u001b[0m\n",
            "\u001b[?25hRequirement already satisfied: certifi>=2019.11.17 in /usr/local/lib/python3.10/dist-packages (from pinecone-Client) (2024.2.2)\n",
            "Requirement already satisfied: tqdm>=4.64.1 in /usr/local/lib/python3.10/dist-packages (from pinecone-Client) (4.66.2)\n",
            "Requirement already satisfied: typing-extensions>=3.7.4 in /usr/local/lib/python3.10/dist-packages (from pinecone-Client) (4.9.0)\n",
            "Requirement already satisfied: urllib3>=1.26.0 in /usr/local/lib/python3.10/dist-packages (from pinecone-Client) (2.0.7)\n",
            "Installing collected packages: pinecone-Client\n",
            "Successfully installed pinecone-Client-3.1.0\n"
          ]
        }
      ],
      "source": [
        "!pip install pinecone-Client"
      ]
    },
    {
      "cell_type": "code",
      "execution_count": 33,
      "metadata": {
        "colab": {
          "base_uri": "https://localhost:8080/"
        },
        "id": "7mZKt6CaeXgX",
        "outputId": "7de44e5b-6a29-415e-cf5f-6e76774ceaa1"
      },
      "outputs": [
        {
          "name": "stdout",
          "output_type": "stream",
          "text": [
            "Collecting tiktoken\n",
            "  Downloading tiktoken-0.6.0-cp310-cp310-manylinux_2_17_x86_64.manylinux2014_x86_64.whl (1.8 MB)\n",
            "\u001b[2K     \u001b[90m━━━━━━━━━━━━━━━━━━━━━━━━━━━━━━━━━━━━━━━━\u001b[0m \u001b[32m1.8/1.8 MB\u001b[0m \u001b[31m9.4 MB/s\u001b[0m eta \u001b[36m0:00:00\u001b[0m\n",
            "\u001b[?25hRequirement already satisfied: regex>=2022.1.18 in /usr/local/lib/python3.10/dist-packages (from tiktoken) (2023.12.25)\n",
            "Requirement already satisfied: requests>=2.26.0 in /usr/local/lib/python3.10/dist-packages (from tiktoken) (2.31.0)\n",
            "Requirement already satisfied: charset-normalizer<4,>=2 in /usr/local/lib/python3.10/dist-packages (from requests>=2.26.0->tiktoken) (3.3.2)\n",
            "Requirement already satisfied: idna<4,>=2.5 in /usr/local/lib/python3.10/dist-packages (from requests>=2.26.0->tiktoken) (3.6)\n",
            "Requirement already satisfied: urllib3<3,>=1.21.1 in /usr/local/lib/python3.10/dist-packages (from requests>=2.26.0->tiktoken) (2.0.7)\n",
            "Requirement already satisfied: certifi>=2017.4.17 in /usr/local/lib/python3.10/dist-packages (from requests>=2.26.0->tiktoken) (2024.2.2)\n",
            "Installing collected packages: tiktoken\n",
            "Successfully installed tiktoken-0.6.0\n"
          ]
        }
      ],
      "source": [
        "!pip install tiktoken"
      ]
    },
    {
      "cell_type": "code",
      "execution_count": 21,
      "metadata": {
        "id": "2JPr4sxrzOuO"
      },
      "outputs": [],
      "source": [
        "from pinecone import Pinecone\n",
        "\n",
        "# Retrieve the OpenAI API key from the environment\n",
        "api_key = os.getenv(\"PINECONE_API_KEY\")\n",
        "\n",
        "# configure client\n",
        "pc = Pinecone(api_key=api_key)"
      ]
    },
    {
      "cell_type": "code",
      "execution_count": 26,
      "metadata": {
        "colab": {
          "base_uri": "https://localhost:8080/"
        },
        "id": "HhlVOGMC0I6D",
        "outputId": "e13c1a39-1d52-4616-b63b-9a5afc35d563"
      },
      "outputs": [
        {
          "data": {
            "text/plain": [
              "{'dimension': 1536,\n",
              " 'index_fullness': 0.0,\n",
              " 'namespaces': {},\n",
              " 'total_vector_count': 0}"
            ]
          },
          "execution_count": 26,
          "metadata": {},
          "output_type": "execute_result"
        }
      ],
      "source": [
        "#creating an index\n",
        "import time\n",
        "from pinecone import ServerlessSpec\n",
        "\n",
        "index_name = 'contract1'\n",
        "existing_indexes = [\n",
        "    index_info[\"name\"] for index_info in pc.list_indexes()\n",
        "]\n",
        "\n",
        "# creating index\n",
        "if index_name not in existing_indexes:\n",
        "    # if does not exist, create index\n",
        "    pc.create_index(\n",
        "        index_name,\n",
        "        dimension=1536,  # dimensionality of ada 002\n",
        "        metric='cosine',\n",
        "        spec=ServerlessSpec(\n",
        "        cloud=\"aws\",\n",
        "        region=\"us-west-2\"\n",
        "    )\n",
        "\n",
        "    )\n",
        "    # wait for index to be initialized\n",
        "    while not pc.describe_index(index_name).status['ready']:\n",
        "        time.sleep(1)\n",
        "\n",
        "# connect to index\n",
        "index = pc.Index(index_name)\n",
        "time.sleep(1)\n",
        "# view index stats\n",
        "index.describe_index_stats()"
      ]
    },
    {
      "cell_type": "code",
      "execution_count": 27,
      "metadata": {
        "id": "UyWQNTAAdDdB"
      },
      "outputs": [],
      "source": [
        "from langchain.vectorstores import Pinecone as PineconeVectorStore"
      ]
    },
    {
      "cell_type": "code",
      "execution_count": 31,
      "metadata": {
        "id": "_e644QZeeCWD"
      },
      "outputs": [],
      "source": [
        "import os\n",
        "os.environ['PINECONE_API_KEY'] = PINECONE_API_KEY"
      ]
    },
    {
      "cell_type": "code",
      "execution_count": 34,
      "metadata": {
        "id": "nuteSBwccll_"
      },
      "outputs": [],
      "source": [
        "docsearch=PineconeVectorStore.from_texts(\n",
        "    [t.page_content for t in chunks],\n",
        "    embedding,\n",
        "    index_name=index_name\n",
        ")"
      ]
    },
    {
      "cell_type": "code",
      "execution_count": 40,
      "metadata": {
        "id": "Sqru6PWncqFJ"
      },
      "outputs": [],
      "source": [
        "query = \"Are there any conditions to the closing?\"\n",
        "answ = docsearch.similarity_search(query, k =4)"
      ]
    },
    {
      "cell_type": "code",
      "execution_count": 41,
      "metadata": {
        "colab": {
          "base_uri": "https://localhost:8080/"
        },
        "id": "cs7OucDsfC2g",
        "outputId": "1d871f6b-06f4-41ac-e33f-85b536df7fc2"
      },
      "outputs": [
        {
          "data": {
            "text/plain": [
              "[Document(page_content='after\\nthe\\nClosing\\ncontinue\\nto\\nhave\\ncoverage\\nunder\\nall\\nof\\nthe\\nLiability\\nPolicies\\nwith \\nrespect\\nto\\nevents\\noccurring\\nprior\\nto\\nthe\\nClosing.\\nSection\\nII.22\\nNo\\nBrokers\\n.\\nNo\\nAcquired\\nCompany\\nhas\\nany\\nLiability\\nof\\nany\\nkind\\nto,\\nor\\nis \\nsubject\\nto\\nany\\nclaim\\nof,\\nany\\nbroker ,\\nfinder\\nor\\nagent\\nin\\nconnection\\nwith\\nthe\\nContemplated \\nTransactions\\nother\\nthan\\nthose\\nwhich\\nwill\\nbe\\nborne\\nby\\nthe\\nSellers.\\n-\\n50\\n-\\n112923184_5'),\n",
              " Document(page_content='.\\nThe\\nProposed\\nFinal\\nClosing\\nStatement\\n(and\\nthe\\nproposed\\nfinal \\ndeterminations\\nof\\nthe\\nClosing\\nDebt\\nAmount,\\nthe\\nClosing\\nCash\\nAmount,\\nand\\nthe\\nSeller \\nTransaction\\nExpenses\\nreflected\\nthereon)\\nwill\\nbe\\nfinal,\\nconclusive\\nand\\nbinding\\non\\nthe\\nparties \\nunless\\nthe\\nSellers’\\nRepresentative\\nprovides\\na\\nwritten\\nnotice\\n(a\\n“\\nDispute\\nNotice\\n”)\\nto\\nBuyer\\nno \\nlater\\nthan\\nthe\\nthirtieth\\n(30th)\\nBusiness\\nDay\\nafter\\nthe\\ndelivery\\nto\\nthe\\nSellers’\\nRepresentative\\nof\\nthe \\nProposed\\nFinal\\nClosing\\nStatement.\\nAny\\nDispute\\nNotice\\nmust\\nset\\nforth'),\n",
              " Document(page_content='Obligation\\nis\\nterminated\\nat\\nthe\\nClosing,\\nand\\n(e)\\nin\\nthe\\nnature\\nof\\nGuarantees\\nof,\\nor\\nliens\\non\\nassets\\n-\\n4\\n-\\n112923184_5'),\n",
              " Document(page_content='Pre-Closing \\nEngagements,\\nto\\nany\\nParty\\nother\\nthan\\nthe\\nSellers\\nand\\nthe\\nSellers’\\nRepresentative.\\n-\\n66\\n-\\n112923184_5')]"
            ]
          },
          "execution_count": 41,
          "metadata": {},
          "output_type": "execute_result"
        }
      ],
      "source": [
        "answ"
      ]
    },
    {
      "cell_type": "code",
      "execution_count": 55,
      "metadata": {
        "id": "JfxcRjmPg4_x"
      },
      "outputs": [],
      "source": [
        "#creating a retriever\n",
        "retriever = docsearch.as_retriever(k = 4)"
      ]
    },
    {
      "cell_type": "code",
      "execution_count": 33,
      "metadata": {
        "id": "lgckLZpJVEFu"
      },
      "outputs": [],
      "source": [
        "from langchain.vectorstores import pinecone\n",
        "import pinecone"
      ]
    },
    {
      "cell_type": "markdown",
      "metadata": {
        "id": "qLMJTJqzSLGr"
      },
      "source": [
        "### RAG FUSION"
      ]
    },
    {
      "cell_type": "code",
      "execution_count": 80,
      "metadata": {
        "id": "2PzbI41Ba9pi"
      },
      "outputs": [],
      "source": [
        "from operator import itemgetter\n",
        "\n",
        "from langchain.chat_models import ChatOpenAI\n",
        "\n",
        "from langchain.prompts import ChatPromptTemplate\n",
        "from langchain.schema.output_parser import StrOutputParser\n",
        "from langchain.schema.runnable import RunnableLambda, RunnablePassthrough"
      ]
    },
    {
      "cell_type": "code",
      "execution_count": 64,
      "metadata": {
        "id": "8Y481JXXSsnk"
      },
      "outputs": [],
      "source": [
        "\n",
        "template = \"\"\"Answer the question based only on the following context:\n",
        "{context}\n",
        "\n",
        "Question: {question}\n",
        "\"\"\"\n",
        "prompt = ChatPromptTemplate.from_template(template)\n",
        "\n",
        "llm = ChatOpenAI(model_name=\"gpt-3.5-turbo\", temperature=0)"
      ]
    },
    {
      "cell_type": "code",
      "execution_count": 65,
      "metadata": {
        "id": "GK4l44c8S6YK"
      },
      "outputs": [],
      "source": [
        "chain = (\n",
        "    {\"context\": retriever, \"question\": RunnablePassthrough()}\n",
        "    | prompt\n",
        "    | llm\n",
        "    | StrOutputParser()\n",
        ")"
      ]
    },
    {
      "cell_type": "code",
      "execution_count": 68,
      "metadata": {
        "id": "hjPzs2iATVL8"
      },
      "outputs": [],
      "source": [
        "import textwrap\n",
        "def wrap_text(text, width=90): #preserve_newlines\n",
        "    # Split the input text into lines based on newline characters\n",
        "    lines = text.split('\\n')\n",
        "\n",
        "    # Wrap each line individually\n",
        "    wrapped_lines = [textwrap.fill(line, width=width) for line in lines]\n",
        "\n",
        "    # Join the wrapped lines back together using newline characters\n",
        "    wrapped_text = '\\n'.join(wrapped_lines)\n",
        "\n",
        "    return wrapped_text"
      ]
    },
    {
      "cell_type": "code",
      "execution_count": 69,
      "metadata": {
        "colab": {
          "base_uri": "https://localhost:8080/"
        },
        "id": "bqKhJ3QYTC6Q",
        "outputId": "5edb5b6a-d88c-4b1e-d517-7fb0698a1ceb"
      },
      "outputs": [
        {
          "name": "stdout",
          "output_type": "stream",
          "text": [
            "Based on the provided context, there are conditions to the closing mentioned, such as the\n",
            "Proposed Final Closing Statement being final, conclusive, and binding unless a Dispute\n",
            "Notice is provided within a specified timeframe.\n"
          ]
        }
      ],
      "source": [
        "text_reply = chain.invoke(query)\n",
        "\n",
        "print(wrap_text(text_reply))"
      ]
    },
    {
      "cell_type": "code",
      "execution_count": 70,
      "metadata": {
        "id": "JIf86uB0UV4Q"
      },
      "outputs": [],
      "source": [
        "from langchain.schema.output_parser import StrOutputParser\n",
        "from langchain.prompts import SystemMessagePromptTemplate, HumanMessagePromptTemplate\n",
        "from langchain.prompts import ChatMessagePromptTemplate, PromptTemplate,ChatPromptTemplate\n",
        "\n",
        "prompt = ChatPromptTemplate(input_variables=['original_query'],\n",
        "                            messages=[SystemMessagePromptTemplate(prompt=PromptTemplate(input_variables=[],\n",
        "                                                                                        template='You are a helpful assistant that generates multiple search queries based on a single input query.')),\n",
        "                                      HumanMessagePromptTemplate(prompt=PromptTemplate(input_variables=['original_query'],\n",
        "                                                                                      template='Generate multiple search queries related to: {question} \\n OUTPUT (4 queries):'))])"
      ]
    },
    {
      "cell_type": "code",
      "execution_count": 72,
      "metadata": {
        "id": "n1weSdgeViOQ"
      },
      "outputs": [],
      "source": [
        "generate_queries = (\n",
        "    prompt | llm | StrOutputParser() | (lambda x: x.split(\"\\n\"))\n",
        ")"
      ]
    },
    {
      "cell_type": "code",
      "execution_count": 73,
      "metadata": {
        "id": "9DrKe0AqWnlZ"
      },
      "outputs": [],
      "source": [
        "from langchain.load import dumps, loads\n",
        "\n",
        "\n",
        "def reciprocal_rank_fusion(results: list[list], k=60):\n",
        "    fused_scores = {}\n",
        "    for docs in results:\n",
        "        # Assumes the docs are returned in sorted order of relevance\n",
        "        for rank, doc in enumerate(docs):\n",
        "            doc_str = dumps(doc)\n",
        "            if doc_str not in fused_scores:\n",
        "                fused_scores[doc_str] = 0\n",
        "            previous_score = fused_scores[doc_str]\n",
        "            fused_scores[doc_str] += 1 / (rank + k)\n",
        "\n",
        "    reranked_results = [\n",
        "        (loads(doc), score)\n",
        "        for doc, score in sorted(fused_scores.items(), key=lambda x: x[1], reverse=True)\n",
        "    ]\n",
        "    return reranked_results"
      ]
    },
    {
      "cell_type": "code",
      "execution_count": 75,
      "metadata": {
        "id": "oj70V3zHWu3p"
      },
      "outputs": [],
      "source": [
        "ragfusion_chain = generate_queries | retriever.map() | reciprocal_rank_fusion\n",
        "langchain.debug = True"
      ]
    },
    {
      "cell_type": "code",
      "execution_count": 76,
      "metadata": {
        "colab": {
          "base_uri": "https://localhost:8080/"
        },
        "id": "LQa9sbYVW1uv",
        "outputId": "6605bbac-9db8-49c6-fb6e-5bf15bb4c9f6"
      },
      "outputs": [
        {
          "data": {
            "text/plain": [
              "{'title': 'PromptInput',\n",
              " 'type': 'object',\n",
              " 'properties': {'question': {'title': 'Question', 'type': 'string'}}}"
            ]
          },
          "execution_count": 76,
          "metadata": {},
          "output_type": "execute_result"
        }
      ],
      "source": [
        "ragfusion_chain.input_schema.schema()"
      ]
    },
    {
      "cell_type": "code",
      "execution_count": 77,
      "metadata": {
        "id": "yjjdnomqXEAf"
      },
      "outputs": [],
      "source": [
        "query1 = 'Is any of the Sellers bound by a non-competition covenant after the Closing?'"
      ]
    },
    {
      "cell_type": "code",
      "execution_count": 78,
      "metadata": {
        "colab": {
          "base_uri": "https://localhost:8080/"
        },
        "id": "kqXp9UI2XAaV",
        "outputId": "1431dd78-af5d-43df-c116-f3204fc4ed41"
      },
      "outputs": [
        {
          "name": "stdout",
          "output_type": "stream",
          "text": [
            "\u001b[32;1m\u001b[1;3m[chain/start]\u001b[0m \u001b[1m[1:chain:RunnableSequence] Entering Chain run with input:\n",
            "\u001b[0m{\n",
            "  \"question\": \"Is any of the Sellers bound by a non-competition covenant after the Closing?\"\n",
            "}\n",
            "\u001b[32;1m\u001b[1;3m[chain/start]\u001b[0m \u001b[1m[1:chain:RunnableSequence > 2:prompt:ChatPromptTemplate] Entering Prompt run with input:\n",
            "\u001b[0m{\n",
            "  \"question\": \"Is any of the Sellers bound by a non-competition covenant after the Closing?\"\n",
            "}\n",
            "\u001b[36;1m\u001b[1;3m[chain/end]\u001b[0m \u001b[1m[1:chain:RunnableSequence > 2:prompt:ChatPromptTemplate] [4ms] Exiting Prompt run with output:\n",
            "\u001b[0m{\n",
            "  \"lc\": 1,\n",
            "  \"type\": \"constructor\",\n",
            "  \"id\": [\n",
            "    \"langchain\",\n",
            "    \"prompts\",\n",
            "    \"chat\",\n",
            "    \"ChatPromptValue\"\n",
            "  ],\n",
            "  \"kwargs\": {\n",
            "    \"messages\": [\n",
            "      {\n",
            "        \"lc\": 1,\n",
            "        \"type\": \"constructor\",\n",
            "        \"id\": [\n",
            "          \"langchain\",\n",
            "          \"schema\",\n",
            "          \"messages\",\n",
            "          \"SystemMessage\"\n",
            "        ],\n",
            "        \"kwargs\": {\n",
            "          \"content\": \"You are a helpful assistant that generates multiple search queries based on a single input query.\",\n",
            "          \"additional_kwargs\": {}\n",
            "        }\n",
            "      },\n",
            "      {\n",
            "        \"lc\": 1,\n",
            "        \"type\": \"constructor\",\n",
            "        \"id\": [\n",
            "          \"langchain\",\n",
            "          \"schema\",\n",
            "          \"messages\",\n",
            "          \"HumanMessage\"\n",
            "        ],\n",
            "        \"kwargs\": {\n",
            "          \"content\": \"Generate multiple search queries related to: Is any of the Sellers bound by a non-competition covenant after the Closing? \\n OUTPUT (4 queries):\",\n",
            "          \"additional_kwargs\": {}\n",
            "        }\n",
            "      }\n",
            "    ]\n",
            "  }\n",
            "}\n",
            "\u001b[32;1m\u001b[1;3m[llm/start]\u001b[0m \u001b[1m[1:chain:RunnableSequence > 3:llm:ChatOpenAI] Entering LLM run with input:\n",
            "\u001b[0m{\n",
            "  \"prompts\": [\n",
            "    \"System: You are a helpful assistant that generates multiple search queries based on a single input query.\\nHuman: Generate multiple search queries related to: Is any of the Sellers bound by a non-competition covenant after the Closing? \\n OUTPUT (4 queries):\"\n",
            "  ]\n",
            "}\n",
            "\u001b[36;1m\u001b[1;3m[llm/end]\u001b[0m \u001b[1m[1:chain:RunnableSequence > 3:llm:ChatOpenAI] [946ms] Exiting LLM run with output:\n",
            "\u001b[0m{\n",
            "  \"generations\": [\n",
            "    [\n",
            "      {\n",
            "        \"text\": \"1. What is a non-competition covenant in a business acquisition?\\n2. How are non-competition covenants enforced in seller agreements?\\n3. Legal implications of non-competition covenants in business transactions\\n4. How to negotiate non-competition clauses in seller contracts\",\n",
            "        \"generation_info\": {\n",
            "          \"finish_reason\": \"stop\",\n",
            "          \"logprobs\": null\n",
            "        },\n",
            "        \"type\": \"ChatGeneration\",\n",
            "        \"message\": {\n",
            "          \"lc\": 1,\n",
            "          \"type\": \"constructor\",\n",
            "          \"id\": [\n",
            "            \"langchain\",\n",
            "            \"schema\",\n",
            "            \"messages\",\n",
            "            \"AIMessage\"\n",
            "          ],\n",
            "          \"kwargs\": {\n",
            "            \"content\": \"1. What is a non-competition covenant in a business acquisition?\\n2. How are non-competition covenants enforced in seller agreements?\\n3. Legal implications of non-competition covenants in business transactions\\n4. How to negotiate non-competition clauses in seller contracts\",\n",
            "            \"additional_kwargs\": {}\n",
            "          }\n",
            "        }\n",
            "      }\n",
            "    ]\n",
            "  ],\n",
            "  \"llm_output\": {\n",
            "    \"token_usage\": {\n",
            "      \"completion_tokens\": 56,\n",
            "      \"prompt_tokens\": 57,\n",
            "      \"total_tokens\": 113\n",
            "    },\n",
            "    \"model_name\": \"gpt-3.5-turbo\",\n",
            "    \"system_fingerprint\": \"fp_86156a94a0\"\n",
            "  },\n",
            "  \"run\": null\n",
            "}\n",
            "\u001b[32;1m\u001b[1;3m[chain/start]\u001b[0m \u001b[1m[1:chain:RunnableSequence > 4:parser:StrOutputParser] Entering Parser run with input:\n",
            "\u001b[0m[inputs]\n",
            "\u001b[36;1m\u001b[1;3m[chain/end]\u001b[0m \u001b[1m[1:chain:RunnableSequence > 4:parser:StrOutputParser] [2ms] Exiting Parser run with output:\n",
            "\u001b[0m{\n",
            "  \"output\": \"1. What is a non-competition covenant in a business acquisition?\\n2. How are non-competition covenants enforced in seller agreements?\\n3. Legal implications of non-competition covenants in business transactions\\n4. How to negotiate non-competition clauses in seller contracts\"\n",
            "}\n",
            "\u001b[32;1m\u001b[1;3m[chain/start]\u001b[0m \u001b[1m[1:chain:RunnableSequence > 5:chain:RunnableLambda] Entering Chain run with input:\n",
            "\u001b[0m{\n",
            "  \"input\": \"1. What is a non-competition covenant in a business acquisition?\\n2. How are non-competition covenants enforced in seller agreements?\\n3. Legal implications of non-competition covenants in business transactions\\n4. How to negotiate non-competition clauses in seller contracts\"\n",
            "}\n",
            "\u001b[36;1m\u001b[1;3m[chain/end]\u001b[0m \u001b[1m[1:chain:RunnableSequence > 5:chain:RunnableLambda] [2ms] Exiting Chain run with output:\n",
            "\u001b[0m{\n",
            "  \"output\": [\n",
            "    \"1. What is a non-competition covenant in a business acquisition?\",\n",
            "    \"2. How are non-competition covenants enforced in seller agreements?\",\n",
            "    \"3. Legal implications of non-competition covenants in business transactions\",\n",
            "    \"4. How to negotiate non-competition clauses in seller contracts\"\n",
            "  ]\n",
            "}\n",
            "\u001b[32;1m\u001b[1;3m[chain/start]\u001b[0m \u001b[1m[1:chain:RunnableSequence > 6:chain:RunnableEach<VectorStoreRetriever>] Entering Chain run with input:\n",
            "\u001b[0m{\n",
            "  \"input\": [\n",
            "    \"1. What is a non-competition covenant in a business acquisition?\",\n",
            "    \"2. How are non-competition covenants enforced in seller agreements?\",\n",
            "    \"3. Legal implications of non-competition covenants in business transactions\",\n",
            "    \"4. How to negotiate non-competition clauses in seller contracts\"\n",
            "  ]\n",
            "}\n",
            "\u001b[36;1m\u001b[1;3m[chain/end]\u001b[0m \u001b[1m[1:chain:RunnableSequence > 6:chain:RunnableEach<VectorStoreRetriever>] [1.05s] Exiting Chain run with output:\n",
            "\u001b[0m{\n",
            "  \"output\": [\n",
            "    [\n",
            "      {\n",
            "        \"lc\": 1,\n",
            "        \"type\": \"constructor\",\n",
            "        \"id\": [\n",
            "          \"langchain\",\n",
            "          \"schema\",\n",
            "          \"document\",\n",
            "          \"Document\"\n",
            "        ],\n",
            "        \"kwargs\": {\n",
            "          \"page_content\": \"any\\nAcquired\\nCompany\\nor\\nany\\nAffiliate\\nthereof\\nor\\n(B) limit\\nthe\\nfreedom\\nof\\nany \\nAcquired\\nCompany\\nor\\nany\\nAffiliate\\nthereof\\nto\\nengage\\nin\\nany\\nline\\nof\\nbusiness\\nor\\ncompete\\nwith \\nany\\nPerson;\\n(vii)\\nany\\nContractual\\nObligation\\n(other\\nthan\\nthis\\nAgreement\\nor\\nany\\nAncillary \\nAgreement)\\nunder\\nwhich\\nan\\nAcquired\\nCompany\\nis,\\nor\\nmay\\nbecome,\\nobligated\\nto\\nincur\\nany \\nseverance\\npay\\nor\\nCompensation\\nobligations\\nthat\\nwould\\nbecome\\npayable\\nby\\nreason\\nof\\nthis \\nAgreement\\nor\\nthe\\nContemplated\\nTransactions;\\n(viii)\\nany\\nContractual\",\n",
            "          \"metadata\": {}\n",
            "        }\n",
            "      },\n",
            "      {\n",
            "        \"lc\": 1,\n",
            "        \"type\": \"constructor\",\n",
            "        \"id\": [\n",
            "          \"langchain\",\n",
            "          \"schema\",\n",
            "          \"document\",\n",
            "          \"Document\"\n",
            "        ],\n",
            "        \"kwargs\": {\n",
            "          \"page_content\": \"and\\nother\\nindividual\\nservice \\nproviders\\nhave\\nsigned\\n(i)\\neither\\nan\\noffer\\nletter ,\\nemployment\\nagreement\\nor\\na\\nconsulting\\nagreement \\nwith\\nthe\\napplicable\\nAcquired\\nCompany\\nand\\n(ii)\\na\\nconfidentiality ,\\nnon-solicitation,\\ninventions \\nassignment\\nagreement,\\nor\\nother\\nsuch\\nContractual\\nObligation\\nprohibiting\\ndisclosure\\nor\\nuse\\nof \\nCompany\\nor\\none\\nof\\nthe\\nSubsidiaries\\nconfidential\\ninformation\\nand/or\\nassigning\\nall\\nintellectual \\nproperty\\ncreated\\nin\\nthe\\nframework\\nof\\ntheir\\nengagement\\nwith\\nof\\nthe\\nCompany\\nor\\nsuch\\nSubsidiary .\\n(i)\",\n",
            "          \"metadata\": {}\n",
            "        }\n",
            "      },\n",
            "      {\n",
            "        \"lc\": 1,\n",
            "        \"type\": \"constructor\",\n",
            "        \"id\": [\n",
            "          \"langchain\",\n",
            "          \"schema\",\n",
            "          \"document\",\n",
            "          \"Document\"\n",
            "        ],\n",
            "        \"kwargs\": {\n",
            "          \"page_content\": \"(c)\\n[Reserved]\\n18\\n.\\n(d)\\nTo\\nthe\\nCompany\\nKnowledge,\\nnone\\nof\\nits\\nemployees,\\nconsultants\\nor\\nother \\nindividual\\nservice\\nprovider\\nis\\nobligated\\nunder\\nany\\nContractual\\nObligation,\\nwhether\\noral\\nor \\nwritten\\n(including\\nlicenses,\\ncovenants,\\nor\\ncommitments\\nof\\nany\\nnature),\\nor\\nsubject\\nto\\nany\\nOrder\\nof \\nany\\nGovernmental\\nAuthority ,\\nthat\\nwould\\nmaterially\\ninterfere\\nwith\\nsuch\\nperson's\\nability\\nto \\npromote\\nthe\\ninterest\\nof\\nany\\nAcquired\\nCompany\\nor\\nthat\\nwould\\nconflict\\nwith\\nthe\\nAcquired \\nCompanies'\\nBusiness.\\nTo\\nthe\\nCompany\\nKnowledge\",\n",
            "          \"metadata\": {}\n",
            "        }\n",
            "      },\n",
            "      {\n",
            "        \"lc\": 1,\n",
            "        \"type\": \"constructor\",\n",
            "        \"id\": [\n",
            "          \"langchain\",\n",
            "          \"schema\",\n",
            "          \"document\",\n",
            "          \"Document\"\n",
            "        ],\n",
            "        \"kwargs\": {\n",
            "          \"page_content\": \"(other\\nthan\\nby\\na\\nPermitted\\nEncumbrance);\\n(v)\\nany\\nContractual\\nObligation\\n(A) under\\nwhich\\nan\\nAcquired\\nCompany\\nhas\\ncreated, \\nincurred,\\nassumed\\nor\\nguaranteed\\nany\\nDebt\\nor\\n(B) under\\nwhich\\nany\\nother\\nPerson\\nhas\\nguaranteed \\nany\\nDebt\\nof\\nan\\nAcquired\\nCompany;\\n(vi)\\nany\\nContractual\\nObligation\\ncontaining\\ncovenants\\nthat\\nin\\nany\\nway\\npurport\\nto \\n(A) restrict\\nany\\nbusiness\\nactivity\\n(including\\nrestrictions\\nwith\\nrespect\\nto\\nthe\\nsolicitation\\nof\\nany \\ncustomer)\\nof\\nany\\nAcquired\\nCompany\\nor\\nany\\nAffiliate\\nthereof\\nor\\n(B) limit\\nthe\",\n",
            "          \"metadata\": {}\n",
            "        }\n",
            "      }\n",
            "    ],\n",
            "    [\n",
            "      {\n",
            "        \"lc\": 1,\n",
            "        \"type\": \"constructor\",\n",
            "        \"id\": [\n",
            "          \"langchain\",\n",
            "          \"schema\",\n",
            "          \"document\",\n",
            "          \"Document\"\n",
            "        ],\n",
            "        \"kwargs\": {\n",
            "          \"page_content\": \"the\\njudgment\\nmay\\nbe\\nappealed.\\nFurther ,\\neach\\nSeller\\nagrees\\nthat,\\n(i)\\nwere \\nsuch\\nSeller\\nto\\nbreach\\nany\\nof\\nthe\\ncovenants\\ncontained\\nin\\nthis\\nSection\\n6.08\\n,\\nthe\\ndamage\\nto\\nthe \\nBuyer\\nand\\nthe\\nAcquired\\nCompanies\\nmay\\nbe\\nirreparable,\\n(ii)\\nthe\\nBuyer ,\\nin\\naddition\\nto\\nany\\nother \\nremedies\\navailable\\nto\\nit,\\nshall\\nbe\\nentitled\\nto\\nseek\\npreliminary\\nand\\npermanent\\ninjunctive\\nrelief \\nagainst\\nany\\nbreach\\nor\\nthreatened\\nbreach\\nby\\nsuch\\nSeller\\nof\\nany\\nsuch\\ncovenants\\ntogether\\nwith\\nan \\naward\\nof\\nits\\nreasonable\\nattorneys’\\nfees\\nincurred\\nin\",\n",
            "          \"metadata\": {}\n",
            "        }\n",
            "      },\n",
            "      {\n",
            "        \"lc\": 1,\n",
            "        \"type\": \"constructor\",\n",
            "        \"id\": [\n",
            "          \"langchain\",\n",
            "          \"schema\",\n",
            "          \"document\",\n",
            "          \"Document\"\n",
            "        ],\n",
            "        \"kwargs\": {\n",
            "          \"page_content\": \"the\\nBuyer ,\\nenforceable\\nagainst\\nthe\\nBuyer\\nin\\naccordance\\nwith\\nits\\nterms.\\n-\\n52\\n-\\n112923184_5\",\n",
            "          \"metadata\": {}\n",
            "        }\n",
            "      },\n",
            "      {\n",
            "        \"lc\": 1,\n",
            "        \"type\": \"constructor\",\n",
            "        \"id\": [\n",
            "          \"langchain\",\n",
            "          \"schema\",\n",
            "          \"document\",\n",
            "          \"Document\"\n",
            "        ],\n",
            "        \"kwargs\": {\n",
            "          \"page_content\": \"to\\nany \\nother\\nclaims,\\ndemands\\nand\\ncauses\\nof\\naction\\nhereinabove\\nspecified,\\nbut\\nonly\\nto\\nthe\\nextent\\nsuch\\nsection\\nis\\napplicable\\nto\\nreleases\\nsuch\\nas\\nthis\\n \\nSection\\n6.07\\n.\\nSection\\nI.01\\nNonsolicitation\\n.\\n(a)\\n[Reserved]\\n19\\n(b)\\nFor\\na\\nperiod\\nof\\n12\\nmonths\\nfrom\\nand\\nafter\\nthe\\nClosing\\nDate\\n(the\\n“\\nRestricted \\nPeriod\\n”),\\nthe\\nSellers\\nshall\\nnot,\\nand\\nshall\\nnot\\npermit,\\ncause\\nor\\nencourage\\nany\\nof\\ntheir\\nAffiliates\\nto, \\n(i)\\nsolicit,\\nlure\\nor\\nentice\\naway ,\\nor\\nin\\nany\\nother\\nmanner\\npersuade\\nor\\nattempt\\nto\\npersuade,\\nany \\nPerson\\nwho\\nis\",\n",
            "          \"metadata\": {}\n",
            "        }\n",
            "      },\n",
            "      {\n",
            "        \"lc\": 1,\n",
            "        \"type\": \"constructor\",\n",
            "        \"id\": [\n",
            "          \"langchain\",\n",
            "          \"schema\",\n",
            "          \"document\",\n",
            "          \"Document\"\n",
            "        ],\n",
            "        \"kwargs\": {\n",
            "          \"page_content\": \"V\\nREPRESENT ATIONS\\nAND\\nWARRANTIES\\nOF\\nTHE\\nBUYER.\\n40\\nSection\\n5.01\\nOrganization\\n40\\nSection\\n5.02\\nPower\\nand\\nAuthorization\\n40\\nSection\\n5.03\\nAuthorization\\nof\\nGovernmental\\nAuthorities\\n40\\nSection\\n5.04\\nNoncontravention\\n40\\nSection\\n5.05\\nNo\\nBrokers\\n41\\nARTICLE\\nVI\\nCOVENANTS\\nOF\\nTHE\\nPARTIES\\n41\\nSection\\n6.01\\nExpenses\\n41\\nSection\\n6.02\\nConfidentiality\\n41\\nSection\\n6.03\\nPublicity\\n42\\nSection\\n6.04\\nRelease.\\n42\\nSection\\n6.06\\nD&O\\nTail.\\n43\\nSection\\n6.07\\nFurther\\nAssurances\\n43\\nARTICLE\\nVII\\nTAX\\nMATTERS\\n43\\nSection\\n7.01\\nTax\\nSharing\\nAgreements\\n43\",\n",
            "          \"metadata\": {}\n",
            "        }\n",
            "      }\n",
            "    ],\n",
            "    [\n",
            "      {\n",
            "        \"lc\": 1,\n",
            "        \"type\": \"constructor\",\n",
            "        \"id\": [\n",
            "          \"langchain\",\n",
            "          \"schema\",\n",
            "          \"document\",\n",
            "          \"Document\"\n",
            "        ],\n",
            "        \"kwargs\": {\n",
            "          \"page_content\": \"any\\nAcquired\\nCompany\\nor\\nany\\nAffiliate\\nthereof\\nor\\n(B) limit\\nthe\\nfreedom\\nof\\nany \\nAcquired\\nCompany\\nor\\nany\\nAffiliate\\nthereof\\nto\\nengage\\nin\\nany\\nline\\nof\\nbusiness\\nor\\ncompete\\nwith \\nany\\nPerson;\\n(vii)\\nany\\nContractual\\nObligation\\n(other\\nthan\\nthis\\nAgreement\\nor\\nany\\nAncillary \\nAgreement)\\nunder\\nwhich\\nan\\nAcquired\\nCompany\\nis,\\nor\\nmay\\nbecome,\\nobligated\\nto\\nincur\\nany \\nseverance\\npay\\nor\\nCompensation\\nobligations\\nthat\\nwould\\nbecome\\npayable\\nby\\nreason\\nof\\nthis \\nAgreement\\nor\\nthe\\nContemplated\\nTransactions;\\n(viii)\\nany\\nContractual\",\n",
            "          \"metadata\": {}\n",
            "        }\n",
            "      },\n",
            "      {\n",
            "        \"lc\": 1,\n",
            "        \"type\": \"constructor\",\n",
            "        \"id\": [\n",
            "          \"langchain\",\n",
            "          \"schema\",\n",
            "          \"document\",\n",
            "          \"Document\"\n",
            "        ],\n",
            "        \"kwargs\": {\n",
            "          \"page_content\": \"(c)\\n[Reserved]\\n18\\n.\\n(d)\\nTo\\nthe\\nCompany\\nKnowledge,\\nnone\\nof\\nits\\nemployees,\\nconsultants\\nor\\nother \\nindividual\\nservice\\nprovider\\nis\\nobligated\\nunder\\nany\\nContractual\\nObligation,\\nwhether\\noral\\nor \\nwritten\\n(including\\nlicenses,\\ncovenants,\\nor\\ncommitments\\nof\\nany\\nnature),\\nor\\nsubject\\nto\\nany\\nOrder\\nof \\nany\\nGovernmental\\nAuthority ,\\nthat\\nwould\\nmaterially\\ninterfere\\nwith\\nsuch\\nperson's\\nability\\nto \\npromote\\nthe\\ninterest\\nof\\nany\\nAcquired\\nCompany\\nor\\nthat\\nwould\\nconflict\\nwith\\nthe\\nAcquired \\nCompanies'\\nBusiness.\\nTo\\nthe\\nCompany\\nKnowledge\",\n",
            "          \"metadata\": {}\n",
            "        }\n",
            "      },\n",
            "      {\n",
            "        \"lc\": 1,\n",
            "        \"type\": \"constructor\",\n",
            "        \"id\": [\n",
            "          \"langchain\",\n",
            "          \"schema\",\n",
            "          \"document\",\n",
            "          \"Document\"\n",
            "        ],\n",
            "        \"kwargs\": {\n",
            "          \"page_content\": \"and\\nother\\nindividual\\nservice \\nproviders\\nhave\\nsigned\\n(i)\\neither\\nan\\noffer\\nletter ,\\nemployment\\nagreement\\nor\\na\\nconsulting\\nagreement \\nwith\\nthe\\napplicable\\nAcquired\\nCompany\\nand\\n(ii)\\na\\nconfidentiality ,\\nnon-solicitation,\\ninventions \\nassignment\\nagreement,\\nor\\nother\\nsuch\\nContractual\\nObligation\\nprohibiting\\ndisclosure\\nor\\nuse\\nof \\nCompany\\nor\\none\\nof\\nthe\\nSubsidiaries\\nconfidential\\ninformation\\nand/or\\nassigning\\nall\\nintellectual \\nproperty\\ncreated\\nin\\nthe\\nframework\\nof\\ntheir\\nengagement\\nwith\\nof\\nthe\\nCompany\\nor\\nsuch\\nSubsidiary .\\n(i)\",\n",
            "          \"metadata\": {}\n",
            "        }\n",
            "      },\n",
            "      {\n",
            "        \"lc\": 1,\n",
            "        \"type\": \"constructor\",\n",
            "        \"id\": [\n",
            "          \"langchain\",\n",
            "          \"schema\",\n",
            "          \"document\",\n",
            "          \"Document\"\n",
            "        ],\n",
            "        \"kwargs\": {\n",
            "          \"page_content\": \"business\\n(whether\\nby\\nmerger,\\nconsolidation\\nor\\nother\\nbusiness \\ncombination,\\nsale\\nof\\nsecurities,\\nsale\\nof\\nassets\\nor\\notherwise)\\nor\\n(B) any\\nmaterial\\nAsset\\n(other\\nthan \\nin\\nthe\\nOrdinary\\nCourse\\nof\\nBusiness);\\n(iii)\\nany\\nContractual\\nObligation\\nconcerning\\nor\\nconsisting\\nof\\na\\npartnership,\\nlimited \\nliability\\ncompany ,\\njoint\\nventure\\nor\\nsimilar\\nagreement;\\n(iv)\\nany\\nContractual\\nObligation\\nunder\\nwhich\\nan\\nAcquired\\nCompany\\nhas\\npermitted\\nany \\nAsset\\nto\\nbecome\\nEncumbered\\n(other\\nthan\\nby\\na\\nPermitted\\nEncumbrance);\\n(v)\\nany\\nContractual\",\n",
            "          \"metadata\": {}\n",
            "        }\n",
            "      }\n",
            "    ],\n",
            "    [\n",
            "      {\n",
            "        \"lc\": 1,\n",
            "        \"type\": \"constructor\",\n",
            "        \"id\": [\n",
            "          \"langchain\",\n",
            "          \"schema\",\n",
            "          \"document\",\n",
            "          \"Document\"\n",
            "        ],\n",
            "        \"kwargs\": {\n",
            "          \"page_content\": \"to\\nany \\nother\\nclaims,\\ndemands\\nand\\ncauses\\nof\\naction\\nhereinabove\\nspecified,\\nbut\\nonly\\nto\\nthe\\nextent\\nsuch\\nsection\\nis\\napplicable\\nto\\nreleases\\nsuch\\nas\\nthis\\n \\nSection\\n6.07\\n.\\nSection\\nI.01\\nNonsolicitation\\n.\\n(a)\\n[Reserved]\\n19\\n(b)\\nFor\\na\\nperiod\\nof\\n12\\nmonths\\nfrom\\nand\\nafter\\nthe\\nClosing\\nDate\\n(the\\n“\\nRestricted \\nPeriod\\n”),\\nthe\\nSellers\\nshall\\nnot,\\nand\\nshall\\nnot\\npermit,\\ncause\\nor\\nencourage\\nany\\nof\\ntheir\\nAffiliates\\nto, \\n(i)\\nsolicit,\\nlure\\nor\\nentice\\naway ,\\nor\\nin\\nany\\nother\\nmanner\\npersuade\\nor\\nattempt\\nto\\npersuade,\\nany \\nPerson\\nwho\\nis\",\n",
            "          \"metadata\": {}\n",
            "        }\n",
            "      },\n",
            "      {\n",
            "        \"lc\": 1,\n",
            "        \"type\": \"constructor\",\n",
            "        \"id\": [\n",
            "          \"langchain\",\n",
            "          \"schema\",\n",
            "          \"document\",\n",
            "          \"Document\"\n",
            "        ],\n",
            "        \"kwargs\": {\n",
            "          \"page_content\": \"V\\nREPRESENT ATIONS\\nAND\\nWARRANTIES\\nOF\\nTHE\\nBUYER.\\n40\\nSection\\n5.01\\nOrganization\\n40\\nSection\\n5.02\\nPower\\nand\\nAuthorization\\n40\\nSection\\n5.03\\nAuthorization\\nof\\nGovernmental\\nAuthorities\\n40\\nSection\\n5.04\\nNoncontravention\\n40\\nSection\\n5.05\\nNo\\nBrokers\\n41\\nARTICLE\\nVI\\nCOVENANTS\\nOF\\nTHE\\nPARTIES\\n41\\nSection\\n6.01\\nExpenses\\n41\\nSection\\n6.02\\nConfidentiality\\n41\\nSection\\n6.03\\nPublicity\\n42\\nSection\\n6.04\\nRelease.\\n42\\nSection\\n6.06\\nD&O\\nTail.\\n43\\nSection\\n6.07\\nFurther\\nAssurances\\n43\\nARTICLE\\nVII\\nTAX\\nMATTERS\\n43\\nSection\\n7.01\\nTax\\nSharing\\nAgreements\\n43\",\n",
            "          \"metadata\": {}\n",
            "        }\n",
            "      },\n",
            "      {\n",
            "        \"lc\": 1,\n",
            "        \"type\": \"constructor\",\n",
            "        \"id\": [\n",
            "          \"langchain\",\n",
            "          \"schema\",\n",
            "          \"document\",\n",
            "          \"Document\"\n",
            "        ],\n",
            "        \"kwargs\": {\n",
            "          \"page_content\": \"Section\\n3.19\\nLabor\\nMatters\\n37\\nSection\\n3.20\\nLitigation;\\nGovernment\\nOrders\\n37\\nSection\\n3.21\\nInsurance\\n38\\nSection\\n3.22\\nNo\\nBrokers\\n38\\nSection\\n3.23\\nFull\\nDisclosure\\n38\\nARTICLE\\nIV\\nINDIVIDUAL\\nREPRESENT ATIONS\\nAND\\nWARRANTIES\\nOF\\nTHE \\nSELLERS.\\n38\\nSection\\n4.01\\nOrganization\\n39\\nSection\\n4.02\\nPower\\nand\\nAuthorization\\n39\\nSection\\n4.03\\nAuthorization\\nof\\nGovernmental\\nAuthorities\\n39\\nSection\\n4.04\\nNoncontravention\\n39\\nSection\\n4.05\\nTitle\\n39\\nSection\\n4.06\\nNo\\nBrokers\\n40\\nARTICLE\\nV\\nREPRESENT ATIONS\\nAND\\nWARRANTIES\\nOF\\nTHE\\nBUYER.\\n40\\nSection\",\n",
            "          \"metadata\": {}\n",
            "        }\n",
            "      },\n",
            "      {\n",
            "        \"lc\": 1,\n",
            "        \"type\": \"constructor\",\n",
            "        \"id\": [\n",
            "          \"langchain\",\n",
            "          \"schema\",\n",
            "          \"document\",\n",
            "          \"Document\"\n",
            "        ],\n",
            "        \"kwargs\": {\n",
            "          \"page_content\": \"Section\\n9.02\\nSuccession\\nand\\nAssignment;\\nNo\\nThird-Party\\nBeneficiaries\\n46\\nSection\\n9.03\\nAmendments\\nand\\nWaivers\\n46\\nSection\\n9.04\\nProvisions\\nConcerning\\nthe\\nSellers’\\nRepresentative\\n47\\nSection\\n9.05\\nEntire\\nAgreement\\n48\\nSection\\n9.06\\nCounterparts;\\nFacsimile\\nSignature\\n48\\nSection\\n9.07\\nSeverability\\n49\\nSection\\n9.08\\nGoverning\\nLaw\\n49\\nSection\\n9.09\\nJurisdiction;\\nVenue;\\nService\\nof\\nProcess.\\n49\\nSection\\n9.10\\nSpecific\\nPerformance\\n50\\nSection\\n9.11\\nWaiver\\nof\\nJury\\nTrial\\n50\\nSection\\n9.12\\nNo\\nRecourse\\n50\\n-\\n3\\n-\\n112923184_5\",\n",
            "          \"metadata\": {}\n",
            "        }\n",
            "      }\n",
            "    ]\n",
            "  ]\n",
            "}\n",
            "\u001b[32;1m\u001b[1;3m[chain/start]\u001b[0m \u001b[1m[1:chain:RunnableSequence > 11:chain:reciprocal_rank_fusion] Entering Chain run with input:\n",
            "\u001b[0m[inputs]\n",
            "\u001b[36;1m\u001b[1;3m[chain/end]\u001b[0m \u001b[1m[1:chain:RunnableSequence > 11:chain:reciprocal_rank_fusion] [5ms] Exiting Chain run with output:\n",
            "\u001b[0m{\n",
            "  \"output\": [\n",
            "    [\n",
            "      {\n",
            "        \"lc\": 1,\n",
            "        \"type\": \"constructor\",\n",
            "        \"id\": [\n",
            "          \"langchain\",\n",
            "          \"schema\",\n",
            "          \"document\",\n",
            "          \"Document\"\n",
            "        ],\n",
            "        \"kwargs\": {\n",
            "          \"page_content\": \"any\\nAcquired\\nCompany\\nor\\nany\\nAffiliate\\nthereof\\nor\\n(B) limit\\nthe\\nfreedom\\nof\\nany \\nAcquired\\nCompany\\nor\\nany\\nAffiliate\\nthereof\\nto\\nengage\\nin\\nany\\nline\\nof\\nbusiness\\nor\\ncompete\\nwith \\nany\\nPerson;\\n(vii)\\nany\\nContractual\\nObligation\\n(other\\nthan\\nthis\\nAgreement\\nor\\nany\\nAncillary \\nAgreement)\\nunder\\nwhich\\nan\\nAcquired\\nCompany\\nis,\\nor\\nmay\\nbecome,\\nobligated\\nto\\nincur\\nany \\nseverance\\npay\\nor\\nCompensation\\nobligations\\nthat\\nwould\\nbecome\\npayable\\nby\\nreason\\nof\\nthis \\nAgreement\\nor\\nthe\\nContemplated\\nTransactions;\\n(viii)\\nany\\nContractual\",\n",
            "          \"metadata\": {}\n",
            "        }\n",
            "      },\n",
            "      0.03333333333333333\n",
            "    ],\n",
            "    [\n",
            "      {\n",
            "        \"lc\": 1,\n",
            "        \"type\": \"constructor\",\n",
            "        \"id\": [\n",
            "          \"langchain\",\n",
            "          \"schema\",\n",
            "          \"document\",\n",
            "          \"Document\"\n",
            "        ],\n",
            "        \"kwargs\": {\n",
            "          \"page_content\": \"to\\nany \\nother\\nclaims,\\ndemands\\nand\\ncauses\\nof\\naction\\nhereinabove\\nspecified,\\nbut\\nonly\\nto\\nthe\\nextent\\nsuch\\nsection\\nis\\napplicable\\nto\\nreleases\\nsuch\\nas\\nthis\\n \\nSection\\n6.07\\n.\\nSection\\nI.01\\nNonsolicitation\\n.\\n(a)\\n[Reserved]\\n19\\n(b)\\nFor\\na\\nperiod\\nof\\n12\\nmonths\\nfrom\\nand\\nafter\\nthe\\nClosing\\nDate\\n(the\\n“\\nRestricted \\nPeriod\\n”),\\nthe\\nSellers\\nshall\\nnot,\\nand\\nshall\\nnot\\npermit,\\ncause\\nor\\nencourage\\nany\\nof\\ntheir\\nAffiliates\\nto, \\n(i)\\nsolicit,\\nlure\\nor\\nentice\\naway ,\\nor\\nin\\nany\\nother\\nmanner\\npersuade\\nor\\nattempt\\nto\\npersuade,\\nany \\nPerson\\nwho\\nis\",\n",
            "          \"metadata\": {}\n",
            "        }\n",
            "      },\n",
            "      0.03279569892473118\n",
            "    ],\n",
            "    [\n",
            "      {\n",
            "        \"lc\": 1,\n",
            "        \"type\": \"constructor\",\n",
            "        \"id\": [\n",
            "          \"langchain\",\n",
            "          \"schema\",\n",
            "          \"document\",\n",
            "          \"Document\"\n",
            "        ],\n",
            "        \"kwargs\": {\n",
            "          \"page_content\": \"and\\nother\\nindividual\\nservice \\nproviders\\nhave\\nsigned\\n(i)\\neither\\nan\\noffer\\nletter ,\\nemployment\\nagreement\\nor\\na\\nconsulting\\nagreement \\nwith\\nthe\\napplicable\\nAcquired\\nCompany\\nand\\n(ii)\\na\\nconfidentiality ,\\nnon-solicitation,\\ninventions \\nassignment\\nagreement,\\nor\\nother\\nsuch\\nContractual\\nObligation\\nprohibiting\\ndisclosure\\nor\\nuse\\nof \\nCompany\\nor\\none\\nof\\nthe\\nSubsidiaries\\nconfidential\\ninformation\\nand/or\\nassigning\\nall\\nintellectual \\nproperty\\ncreated\\nin\\nthe\\nframework\\nof\\ntheir\\nengagement\\nwith\\nof\\nthe\\nCompany\\nor\\nsuch\\nSubsidiary .\\n(i)\",\n",
            "          \"metadata\": {}\n",
            "        }\n",
            "      },\n",
            "      0.03252247488101534\n",
            "    ],\n",
            "    [\n",
            "      {\n",
            "        \"lc\": 1,\n",
            "        \"type\": \"constructor\",\n",
            "        \"id\": [\n",
            "          \"langchain\",\n",
            "          \"schema\",\n",
            "          \"document\",\n",
            "          \"Document\"\n",
            "        ],\n",
            "        \"kwargs\": {\n",
            "          \"page_content\": \"(c)\\n[Reserved]\\n18\\n.\\n(d)\\nTo\\nthe\\nCompany\\nKnowledge,\\nnone\\nof\\nits\\nemployees,\\nconsultants\\nor\\nother \\nindividual\\nservice\\nprovider\\nis\\nobligated\\nunder\\nany\\nContractual\\nObligation,\\nwhether\\noral\\nor \\nwritten\\n(including\\nlicenses,\\ncovenants,\\nor\\ncommitments\\nof\\nany\\nnature),\\nor\\nsubject\\nto\\nany\\nOrder\\nof \\nany\\nGovernmental\\nAuthority ,\\nthat\\nwould\\nmaterially\\ninterfere\\nwith\\nsuch\\nperson's\\nability\\nto \\npromote\\nthe\\ninterest\\nof\\nany\\nAcquired\\nCompany\\nor\\nthat\\nwould\\nconflict\\nwith\\nthe\\nAcquired \\nCompanies'\\nBusiness.\\nTo\\nthe\\nCompany\\nKnowledge\",\n",
            "          \"metadata\": {}\n",
            "        }\n",
            "      },\n",
            "      0.03252247488101534\n",
            "    ],\n",
            "    [\n",
            "      {\n",
            "        \"lc\": 1,\n",
            "        \"type\": \"constructor\",\n",
            "        \"id\": [\n",
            "          \"langchain\",\n",
            "          \"schema\",\n",
            "          \"document\",\n",
            "          \"Document\"\n",
            "        ],\n",
            "        \"kwargs\": {\n",
            "          \"page_content\": \"V\\nREPRESENT ATIONS\\nAND\\nWARRANTIES\\nOF\\nTHE\\nBUYER.\\n40\\nSection\\n5.01\\nOrganization\\n40\\nSection\\n5.02\\nPower\\nand\\nAuthorization\\n40\\nSection\\n5.03\\nAuthorization\\nof\\nGovernmental\\nAuthorities\\n40\\nSection\\n5.04\\nNoncontravention\\n40\\nSection\\n5.05\\nNo\\nBrokers\\n41\\nARTICLE\\nVI\\nCOVENANTS\\nOF\\nTHE\\nPARTIES\\n41\\nSection\\n6.01\\nExpenses\\n41\\nSection\\n6.02\\nConfidentiality\\n41\\nSection\\n6.03\\nPublicity\\n42\\nSection\\n6.04\\nRelease.\\n42\\nSection\\n6.06\\nD&O\\nTail.\\n43\\nSection\\n6.07\\nFurther\\nAssurances\\n43\\nARTICLE\\nVII\\nTAX\\nMATTERS\\n43\\nSection\\n7.01\\nTax\\nSharing\\nAgreements\\n43\",\n",
            "          \"metadata\": {}\n",
            "        }\n",
            "      },\n",
            "      0.032266458495966696\n",
            "    ],\n",
            "    [\n",
            "      {\n",
            "        \"lc\": 1,\n",
            "        \"type\": \"constructor\",\n",
            "        \"id\": [\n",
            "          \"langchain\",\n",
            "          \"schema\",\n",
            "          \"document\",\n",
            "          \"Document\"\n",
            "        ],\n",
            "        \"kwargs\": {\n",
            "          \"page_content\": \"the\\njudgment\\nmay\\nbe\\nappealed.\\nFurther ,\\neach\\nSeller\\nagrees\\nthat,\\n(i)\\nwere \\nsuch\\nSeller\\nto\\nbreach\\nany\\nof\\nthe\\ncovenants\\ncontained\\nin\\nthis\\nSection\\n6.08\\n,\\nthe\\ndamage\\nto\\nthe \\nBuyer\\nand\\nthe\\nAcquired\\nCompanies\\nmay\\nbe\\nirreparable,\\n(ii)\\nthe\\nBuyer ,\\nin\\naddition\\nto\\nany\\nother \\nremedies\\navailable\\nto\\nit,\\nshall\\nbe\\nentitled\\nto\\nseek\\npreliminary\\nand\\npermanent\\ninjunctive\\nrelief \\nagainst\\nany\\nbreach\\nor\\nthreatened\\nbreach\\nby\\nsuch\\nSeller\\nof\\nany\\nsuch\\ncovenants\\ntogether\\nwith\\nan \\naward\\nof\\nits\\nreasonable\\nattorneys’\\nfees\\nincurred\\nin\",\n",
            "          \"metadata\": {}\n",
            "        }\n",
            "      },\n",
            "      0.016666666666666666\n",
            "    ],\n",
            "    [\n",
            "      {\n",
            "        \"lc\": 1,\n",
            "        \"type\": \"constructor\",\n",
            "        \"id\": [\n",
            "          \"langchain\",\n",
            "          \"schema\",\n",
            "          \"document\",\n",
            "          \"Document\"\n",
            "        ],\n",
            "        \"kwargs\": {\n",
            "          \"page_content\": \"the\\nBuyer ,\\nenforceable\\nagainst\\nthe\\nBuyer\\nin\\naccordance\\nwith\\nits\\nterms.\\n-\\n52\\n-\\n112923184_5\",\n",
            "          \"metadata\": {}\n",
            "        }\n",
            "      },\n",
            "      0.01639344262295082\n",
            "    ],\n",
            "    [\n",
            "      {\n",
            "        \"lc\": 1,\n",
            "        \"type\": \"constructor\",\n",
            "        \"id\": [\n",
            "          \"langchain\",\n",
            "          \"schema\",\n",
            "          \"document\",\n",
            "          \"Document\"\n",
            "        ],\n",
            "        \"kwargs\": {\n",
            "          \"page_content\": \"Section\\n3.19\\nLabor\\nMatters\\n37\\nSection\\n3.20\\nLitigation;\\nGovernment\\nOrders\\n37\\nSection\\n3.21\\nInsurance\\n38\\nSection\\n3.22\\nNo\\nBrokers\\n38\\nSection\\n3.23\\nFull\\nDisclosure\\n38\\nARTICLE\\nIV\\nINDIVIDUAL\\nREPRESENT ATIONS\\nAND\\nWARRANTIES\\nOF\\nTHE \\nSELLERS.\\n38\\nSection\\n4.01\\nOrganization\\n39\\nSection\\n4.02\\nPower\\nand\\nAuthorization\\n39\\nSection\\n4.03\\nAuthorization\\nof\\nGovernmental\\nAuthorities\\n39\\nSection\\n4.04\\nNoncontravention\\n39\\nSection\\n4.05\\nTitle\\n39\\nSection\\n4.06\\nNo\\nBrokers\\n40\\nARTICLE\\nV\\nREPRESENT ATIONS\\nAND\\nWARRANTIES\\nOF\\nTHE\\nBUYER.\\n40\\nSection\",\n",
            "          \"metadata\": {}\n",
            "        }\n",
            "      },\n",
            "      0.016129032258064516\n",
            "    ],\n",
            "    [\n",
            "      {\n",
            "        \"lc\": 1,\n",
            "        \"type\": \"constructor\",\n",
            "        \"id\": [\n",
            "          \"langchain\",\n",
            "          \"schema\",\n",
            "          \"document\",\n",
            "          \"Document\"\n",
            "        ],\n",
            "        \"kwargs\": {\n",
            "          \"page_content\": \"(other\\nthan\\nby\\na\\nPermitted\\nEncumbrance);\\n(v)\\nany\\nContractual\\nObligation\\n(A) under\\nwhich\\nan\\nAcquired\\nCompany\\nhas\\ncreated, \\nincurred,\\nassumed\\nor\\nguaranteed\\nany\\nDebt\\nor\\n(B) under\\nwhich\\nany\\nother\\nPerson\\nhas\\nguaranteed \\nany\\nDebt\\nof\\nan\\nAcquired\\nCompany;\\n(vi)\\nany\\nContractual\\nObligation\\ncontaining\\ncovenants\\nthat\\nin\\nany\\nway\\npurport\\nto \\n(A) restrict\\nany\\nbusiness\\nactivity\\n(including\\nrestrictions\\nwith\\nrespect\\nto\\nthe\\nsolicitation\\nof\\nany \\ncustomer)\\nof\\nany\\nAcquired\\nCompany\\nor\\nany\\nAffiliate\\nthereof\\nor\\n(B) limit\\nthe\",\n",
            "          \"metadata\": {}\n",
            "        }\n",
            "      },\n",
            "      0.015873015873015872\n",
            "    ],\n",
            "    [\n",
            "      {\n",
            "        \"lc\": 1,\n",
            "        \"type\": \"constructor\",\n",
            "        \"id\": [\n",
            "          \"langchain\",\n",
            "          \"schema\",\n",
            "          \"document\",\n",
            "          \"Document\"\n",
            "        ],\n",
            "        \"kwargs\": {\n",
            "          \"page_content\": \"business\\n(whether\\nby\\nmerger,\\nconsolidation\\nor\\nother\\nbusiness \\ncombination,\\nsale\\nof\\nsecurities,\\nsale\\nof\\nassets\\nor\\notherwise)\\nor\\n(B) any\\nmaterial\\nAsset\\n(other\\nthan \\nin\\nthe\\nOrdinary\\nCourse\\nof\\nBusiness);\\n(iii)\\nany\\nContractual\\nObligation\\nconcerning\\nor\\nconsisting\\nof\\na\\npartnership,\\nlimited \\nliability\\ncompany ,\\njoint\\nventure\\nor\\nsimilar\\nagreement;\\n(iv)\\nany\\nContractual\\nObligation\\nunder\\nwhich\\nan\\nAcquired\\nCompany\\nhas\\npermitted\\nany \\nAsset\\nto\\nbecome\\nEncumbered\\n(other\\nthan\\nby\\na\\nPermitted\\nEncumbrance);\\n(v)\\nany\\nContractual\",\n",
            "          \"metadata\": {}\n",
            "        }\n",
            "      },\n",
            "      0.015873015873015872\n",
            "    ],\n",
            "    [\n",
            "      {\n",
            "        \"lc\": 1,\n",
            "        \"type\": \"constructor\",\n",
            "        \"id\": [\n",
            "          \"langchain\",\n",
            "          \"schema\",\n",
            "          \"document\",\n",
            "          \"Document\"\n",
            "        ],\n",
            "        \"kwargs\": {\n",
            "          \"page_content\": \"Section\\n9.02\\nSuccession\\nand\\nAssignment;\\nNo\\nThird-Party\\nBeneficiaries\\n46\\nSection\\n9.03\\nAmendments\\nand\\nWaivers\\n46\\nSection\\n9.04\\nProvisions\\nConcerning\\nthe\\nSellers’\\nRepresentative\\n47\\nSection\\n9.05\\nEntire\\nAgreement\\n48\\nSection\\n9.06\\nCounterparts;\\nFacsimile\\nSignature\\n48\\nSection\\n9.07\\nSeverability\\n49\\nSection\\n9.08\\nGoverning\\nLaw\\n49\\nSection\\n9.09\\nJurisdiction;\\nVenue;\\nService\\nof\\nProcess.\\n49\\nSection\\n9.10\\nSpecific\\nPerformance\\n50\\nSection\\n9.11\\nWaiver\\nof\\nJury\\nTrial\\n50\\nSection\\n9.12\\nNo\\nRecourse\\n50\\n-\\n3\\n-\\n112923184_5\",\n",
            "          \"metadata\": {}\n",
            "        }\n",
            "      },\n",
            "      0.015873015873015872\n",
            "    ]\n",
            "  ]\n",
            "}\n",
            "\u001b[36;1m\u001b[1;3m[chain/end]\u001b[0m \u001b[1m[1:chain:RunnableSequence] [2.02s] Exiting Chain run with output:\n",
            "\u001b[0m[outputs]\n"
          ]
        },
        {
          "data": {
            "text/plain": [
              "[(Document(page_content='any\\nAcquired\\nCompany\\nor\\nany\\nAffiliate\\nthereof\\nor\\n(B) limit\\nthe\\nfreedom\\nof\\nany \\nAcquired\\nCompany\\nor\\nany\\nAffiliate\\nthereof\\nto\\nengage\\nin\\nany\\nline\\nof\\nbusiness\\nor\\ncompete\\nwith \\nany\\nPerson;\\n(vii)\\nany\\nContractual\\nObligation\\n(other\\nthan\\nthis\\nAgreement\\nor\\nany\\nAncillary \\nAgreement)\\nunder\\nwhich\\nan\\nAcquired\\nCompany\\nis,\\nor\\nmay\\nbecome,\\nobligated\\nto\\nincur\\nany \\nseverance\\npay\\nor\\nCompensation\\nobligations\\nthat\\nwould\\nbecome\\npayable\\nby\\nreason\\nof\\nthis \\nAgreement\\nor\\nthe\\nContemplated\\nTransactions;\\n(viii)\\nany\\nContractual'),\n",
              "  0.03333333333333333),\n",
              " (Document(page_content='to\\nany \\nother\\nclaims,\\ndemands\\nand\\ncauses\\nof\\naction\\nhereinabove\\nspecified,\\nbut\\nonly\\nto\\nthe\\nextent\\nsuch\\nsection\\nis\\napplicable\\nto\\nreleases\\nsuch\\nas\\nthis\\n \\nSection\\n6.07\\n.\\nSection\\nI.01\\nNonsolicitation\\n.\\n(a)\\n[Reserved]\\n19\\n(b)\\nFor\\na\\nperiod\\nof\\n12\\nmonths\\nfrom\\nand\\nafter\\nthe\\nClosing\\nDate\\n(the\\n“\\nRestricted \\nPeriod\\n”),\\nthe\\nSellers\\nshall\\nnot,\\nand\\nshall\\nnot\\npermit,\\ncause\\nor\\nencourage\\nany\\nof\\ntheir\\nAffiliates\\nto, \\n(i)\\nsolicit,\\nlure\\nor\\nentice\\naway ,\\nor\\nin\\nany\\nother\\nmanner\\npersuade\\nor\\nattempt\\nto\\npersuade,\\nany \\nPerson\\nwho\\nis'),\n",
              "  0.03279569892473118),\n",
              " (Document(page_content='and\\nother\\nindividual\\nservice \\nproviders\\nhave\\nsigned\\n(i)\\neither\\nan\\noffer\\nletter ,\\nemployment\\nagreement\\nor\\na\\nconsulting\\nagreement \\nwith\\nthe\\napplicable\\nAcquired\\nCompany\\nand\\n(ii)\\na\\nconfidentiality ,\\nnon-solicitation,\\ninventions \\nassignment\\nagreement,\\nor\\nother\\nsuch\\nContractual\\nObligation\\nprohibiting\\ndisclosure\\nor\\nuse\\nof \\nCompany\\nor\\none\\nof\\nthe\\nSubsidiaries\\nconfidential\\ninformation\\nand/or\\nassigning\\nall\\nintellectual \\nproperty\\ncreated\\nin\\nthe\\nframework\\nof\\ntheir\\nengagement\\nwith\\nof\\nthe\\nCompany\\nor\\nsuch\\nSubsidiary .\\n(i)'),\n",
              "  0.03252247488101534),\n",
              " (Document(page_content=\"(c)\\n[Reserved]\\n18\\n.\\n(d)\\nTo\\nthe\\nCompany\\nKnowledge,\\nnone\\nof\\nits\\nemployees,\\nconsultants\\nor\\nother \\nindividual\\nservice\\nprovider\\nis\\nobligated\\nunder\\nany\\nContractual\\nObligation,\\nwhether\\noral\\nor \\nwritten\\n(including\\nlicenses,\\ncovenants,\\nor\\ncommitments\\nof\\nany\\nnature),\\nor\\nsubject\\nto\\nany\\nOrder\\nof \\nany\\nGovernmental\\nAuthority ,\\nthat\\nwould\\nmaterially\\ninterfere\\nwith\\nsuch\\nperson's\\nability\\nto \\npromote\\nthe\\ninterest\\nof\\nany\\nAcquired\\nCompany\\nor\\nthat\\nwould\\nconflict\\nwith\\nthe\\nAcquired \\nCompanies'\\nBusiness.\\nTo\\nthe\\nCompany\\nKnowledge\"),\n",
              "  0.03252247488101534),\n",
              " (Document(page_content='V\\nREPRESENT ATIONS\\nAND\\nWARRANTIES\\nOF\\nTHE\\nBUYER.\\n40\\nSection\\n5.01\\nOrganization\\n40\\nSection\\n5.02\\nPower\\nand\\nAuthorization\\n40\\nSection\\n5.03\\nAuthorization\\nof\\nGovernmental\\nAuthorities\\n40\\nSection\\n5.04\\nNoncontravention\\n40\\nSection\\n5.05\\nNo\\nBrokers\\n41\\nARTICLE\\nVI\\nCOVENANTS\\nOF\\nTHE\\nPARTIES\\n41\\nSection\\n6.01\\nExpenses\\n41\\nSection\\n6.02\\nConfidentiality\\n41\\nSection\\n6.03\\nPublicity\\n42\\nSection\\n6.04\\nRelease.\\n42\\nSection\\n6.06\\nD&O\\nTail.\\n43\\nSection\\n6.07\\nFurther\\nAssurances\\n43\\nARTICLE\\nVII\\nTAX\\nMATTERS\\n43\\nSection\\n7.01\\nTax\\nSharing\\nAgreements\\n43'),\n",
              "  0.032266458495966696),\n",
              " (Document(page_content='the\\njudgment\\nmay\\nbe\\nappealed.\\nFurther ,\\neach\\nSeller\\nagrees\\nthat,\\n(i)\\nwere \\nsuch\\nSeller\\nto\\nbreach\\nany\\nof\\nthe\\ncovenants\\ncontained\\nin\\nthis\\nSection\\n6.08\\n,\\nthe\\ndamage\\nto\\nthe \\nBuyer\\nand\\nthe\\nAcquired\\nCompanies\\nmay\\nbe\\nirreparable,\\n(ii)\\nthe\\nBuyer ,\\nin\\naddition\\nto\\nany\\nother \\nremedies\\navailable\\nto\\nit,\\nshall\\nbe\\nentitled\\nto\\nseek\\npreliminary\\nand\\npermanent\\ninjunctive\\nrelief \\nagainst\\nany\\nbreach\\nor\\nthreatened\\nbreach\\nby\\nsuch\\nSeller\\nof\\nany\\nsuch\\ncovenants\\ntogether\\nwith\\nan \\naward\\nof\\nits\\nreasonable\\nattorneys’\\nfees\\nincurred\\nin'),\n",
              "  0.016666666666666666),\n",
              " (Document(page_content='the\\nBuyer ,\\nenforceable\\nagainst\\nthe\\nBuyer\\nin\\naccordance\\nwith\\nits\\nterms.\\n-\\n52\\n-\\n112923184_5'),\n",
              "  0.01639344262295082),\n",
              " (Document(page_content='Section\\n3.19\\nLabor\\nMatters\\n37\\nSection\\n3.20\\nLitigation;\\nGovernment\\nOrders\\n37\\nSection\\n3.21\\nInsurance\\n38\\nSection\\n3.22\\nNo\\nBrokers\\n38\\nSection\\n3.23\\nFull\\nDisclosure\\n38\\nARTICLE\\nIV\\nINDIVIDUAL\\nREPRESENT ATIONS\\nAND\\nWARRANTIES\\nOF\\nTHE \\nSELLERS.\\n38\\nSection\\n4.01\\nOrganization\\n39\\nSection\\n4.02\\nPower\\nand\\nAuthorization\\n39\\nSection\\n4.03\\nAuthorization\\nof\\nGovernmental\\nAuthorities\\n39\\nSection\\n4.04\\nNoncontravention\\n39\\nSection\\n4.05\\nTitle\\n39\\nSection\\n4.06\\nNo\\nBrokers\\n40\\nARTICLE\\nV\\nREPRESENT ATIONS\\nAND\\nWARRANTIES\\nOF\\nTHE\\nBUYER.\\n40\\nSection'),\n",
              "  0.016129032258064516),\n",
              " (Document(page_content='(other\\nthan\\nby\\na\\nPermitted\\nEncumbrance);\\n(v)\\nany\\nContractual\\nObligation\\n(A) under\\nwhich\\nan\\nAcquired\\nCompany\\nhas\\ncreated, \\nincurred,\\nassumed\\nor\\nguaranteed\\nany\\nDebt\\nor\\n(B) under\\nwhich\\nany\\nother\\nPerson\\nhas\\nguaranteed \\nany\\nDebt\\nof\\nan\\nAcquired\\nCompany;\\n(vi)\\nany\\nContractual\\nObligation\\ncontaining\\ncovenants\\nthat\\nin\\nany\\nway\\npurport\\nto \\n(A) restrict\\nany\\nbusiness\\nactivity\\n(including\\nrestrictions\\nwith\\nrespect\\nto\\nthe\\nsolicitation\\nof\\nany \\ncustomer)\\nof\\nany\\nAcquired\\nCompany\\nor\\nany\\nAffiliate\\nthereof\\nor\\n(B) limit\\nthe'),\n",
              "  0.015873015873015872),\n",
              " (Document(page_content='business\\n(whether\\nby\\nmerger,\\nconsolidation\\nor\\nother\\nbusiness \\ncombination,\\nsale\\nof\\nsecurities,\\nsale\\nof\\nassets\\nor\\notherwise)\\nor\\n(B) any\\nmaterial\\nAsset\\n(other\\nthan \\nin\\nthe\\nOrdinary\\nCourse\\nof\\nBusiness);\\n(iii)\\nany\\nContractual\\nObligation\\nconcerning\\nor\\nconsisting\\nof\\na\\npartnership,\\nlimited \\nliability\\ncompany ,\\njoint\\nventure\\nor\\nsimilar\\nagreement;\\n(iv)\\nany\\nContractual\\nObligation\\nunder\\nwhich\\nan\\nAcquired\\nCompany\\nhas\\npermitted\\nany \\nAsset\\nto\\nbecome\\nEncumbered\\n(other\\nthan\\nby\\na\\nPermitted\\nEncumbrance);\\n(v)\\nany\\nContractual'),\n",
              "  0.015873015873015872),\n",
              " (Document(page_content='Section\\n9.02\\nSuccession\\nand\\nAssignment;\\nNo\\nThird-Party\\nBeneficiaries\\n46\\nSection\\n9.03\\nAmendments\\nand\\nWaivers\\n46\\nSection\\n9.04\\nProvisions\\nConcerning\\nthe\\nSellers’\\nRepresentative\\n47\\nSection\\n9.05\\nEntire\\nAgreement\\n48\\nSection\\n9.06\\nCounterparts;\\nFacsimile\\nSignature\\n48\\nSection\\n9.07\\nSeverability\\n49\\nSection\\n9.08\\nGoverning\\nLaw\\n49\\nSection\\n9.09\\nJurisdiction;\\nVenue;\\nService\\nof\\nProcess.\\n49\\nSection\\n9.10\\nSpecific\\nPerformance\\n50\\nSection\\n9.11\\nWaiver\\nof\\nJury\\nTrial\\n50\\nSection\\n9.12\\nNo\\nRecourse\\n50\\n-\\n3\\n-\\n112923184_5'),\n",
              "  0.015873015873015872)]"
            ]
          },
          "execution_count": 78,
          "metadata": {},
          "output_type": "execute_result"
        }
      ],
      "source": [
        "ragfusion_chain.invoke({\"question\": query1})"
      ]
    }
  ],
  "metadata": {
    "colab": {
      "provenance": []
    },
    "kernelspec": {
      "display_name": "Python 3",
      "name": "python3"
    },
    "language_info": {
      "name": "python"
    }
  },
  "nbformat": 4,
  "nbformat_minor": 0
}
